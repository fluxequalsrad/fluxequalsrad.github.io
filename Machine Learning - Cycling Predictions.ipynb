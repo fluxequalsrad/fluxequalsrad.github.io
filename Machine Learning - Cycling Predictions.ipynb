{
 "cells": [
  {
   "cell_type": "markdown",
   "id": "308e485b",
   "metadata": {},
   "source": [
    "## Machine Learning Classification Model\n",
    "\n",
    "### Cycling Predictor\n",
    "\n",
    "### Aim\n",
    "I don't want to say I'm a fair weather cyclist but my days of riding through heavy rain or having to go up against brutal headwinds are reaching an end. To help plan my rides better, I’ll be using weather data from Australia’s Bureau of Meteorology alongside my personal cycling data from Strava, to train a machine learning model. The goal is to have this model predict the likelihood of going cycling on any given day based on the upcoming weather forecast, helping me choose the best days to ride.\n",
    "\n",
    "\n",
    "### Data Cleaning"
   ]
  },
  {
   "cell_type": "code",
   "execution_count": 1,
   "id": "880ac4cd",
   "metadata": {},
   "outputs": [],
   "source": [
    "# load libraries\n",
    "# for data manipulation\n",
    "import pandas as pd\n",
    "import numpy as np\n",
    "import matplotlib.pyplot as plt\n",
    "import seaborn as sns\n",
    "\n",
    "# for machine learning\n",
    "from sklearn.preprocessing import OneHotEncoder\n",
    "from sklearn.model_selection import train_test_split\n",
    "from sklearn.preprocessing import StandardScaler\n",
    "from sklearn.linear_model import LogisticRegression\n",
    "from sklearn.ensemble import RandomForestClassifier\n",
    "from xgboost import XGBClassifier\n",
    "from sklearn.model_selection import GridSearchCV\n",
    "from sklearn.metrics import accuracy_score, confusion_matrix, classification_report"
   ]
  },
  {
   "cell_type": "code",
   "execution_count": 2,
   "id": "9a8ac055",
   "metadata": {},
   "outputs": [],
   "source": [
    "# load data\n",
    "weather = pd.read_csv('Weather Data.csv')\n",
    "cycling = pd.read_csv('Cycling Data.csv')"
   ]
  },
  {
   "cell_type": "markdown",
   "id": "b00f9856",
   "metadata": {},
   "source": [
    "#### Weather Data"
   ]
  },
  {
   "cell_type": "code",
   "execution_count": 3,
   "id": "78f3d792",
   "metadata": {
    "scrolled": true
   },
   "outputs": [
    {
     "data": {
      "text/html": [
       "<div>\n",
       "<style scoped>\n",
       "    .dataframe tbody tr th:only-of-type {\n",
       "        vertical-align: middle;\n",
       "    }\n",
       "\n",
       "    .dataframe tbody tr th {\n",
       "        vertical-align: top;\n",
       "    }\n",
       "\n",
       "    .dataframe thead th {\n",
       "        text-align: right;\n",
       "    }\n",
       "</style>\n",
       "<table border=\"1\" class=\"dataframe\">\n",
       "  <thead>\n",
       "    <tr style=\"text-align: right;\">\n",
       "      <th></th>\n",
       "      <th>Daily Weather Observations for Melbourne, Victoria for July 2023 - August 2024</th>\n",
       "      <th>Date</th>\n",
       "      <th>Minimum temperature (°C)</th>\n",
       "      <th>Maximum temperature (°C)</th>\n",
       "      <th>Rainfall (mm)</th>\n",
       "      <th>Evaporation (mm)</th>\n",
       "      <th>Sunshine (hours)</th>\n",
       "      <th>Direction of maximum wind gust</th>\n",
       "      <th>Speed of maximum wind gust (km/h)</th>\n",
       "      <th>Time of maximum wind gust</th>\n",
       "      <th>...</th>\n",
       "      <th>9am cloud amount (oktas)</th>\n",
       "      <th>9am wind direction</th>\n",
       "      <th>9am wind speed (km/h)</th>\n",
       "      <th>9am MSL pressure (hPa)</th>\n",
       "      <th>3pm Temperature (°C)</th>\n",
       "      <th>3pm relative humidity (%)</th>\n",
       "      <th>3pm cloud amount (oktas)</th>\n",
       "      <th>3pm wind direction</th>\n",
       "      <th>3pm wind speed (km/h)</th>\n",
       "      <th>3pm MSL pressure (hPa)</th>\n",
       "    </tr>\n",
       "  </thead>\n",
       "  <tbody>\n",
       "    <tr>\n",
       "      <th>0</th>\n",
       "      <td>NaN</td>\n",
       "      <td>2023-07-1</td>\n",
       "      <td>9.7</td>\n",
       "      <td>13.5</td>\n",
       "      <td>0.4</td>\n",
       "      <td>2.6</td>\n",
       "      <td>4.2</td>\n",
       "      <td>SSW</td>\n",
       "      <td>33.0</td>\n",
       "      <td>12:32</td>\n",
       "      <td>...</td>\n",
       "      <td>1</td>\n",
       "      <td>W</td>\n",
       "      <td>11</td>\n",
       "      <td>1023.2</td>\n",
       "      <td>11.3</td>\n",
       "      <td>89</td>\n",
       "      <td>6.0</td>\n",
       "      <td>SW</td>\n",
       "      <td>9</td>\n",
       "      <td>1025.8</td>\n",
       "    </tr>\n",
       "    <tr>\n",
       "      <th>1</th>\n",
       "      <td>NaN</td>\n",
       "      <td>2023-07-2</td>\n",
       "      <td>9.6</td>\n",
       "      <td>12.8</td>\n",
       "      <td>0.6</td>\n",
       "      <td>0.0</td>\n",
       "      <td>0.2</td>\n",
       "      <td>S</td>\n",
       "      <td>17.0</td>\n",
       "      <td>11:02</td>\n",
       "      <td>...</td>\n",
       "      <td>6</td>\n",
       "      <td>SW</td>\n",
       "      <td>6</td>\n",
       "      <td>1033.9</td>\n",
       "      <td>11.9</td>\n",
       "      <td>83</td>\n",
       "      <td>7.0</td>\n",
       "      <td>SSW</td>\n",
       "      <td>9</td>\n",
       "      <td>1032.7</td>\n",
       "    </tr>\n",
       "    <tr>\n",
       "      <th>2</th>\n",
       "      <td>NaN</td>\n",
       "      <td>2023-07-3</td>\n",
       "      <td>8.2</td>\n",
       "      <td>14.5</td>\n",
       "      <td>0.4</td>\n",
       "      <td>1.2</td>\n",
       "      <td>0.2</td>\n",
       "      <td>N</td>\n",
       "      <td>20.0</td>\n",
       "      <td>14:58</td>\n",
       "      <td>...</td>\n",
       "      <td>7</td>\n",
       "      <td>NNE</td>\n",
       "      <td>7</td>\n",
       "      <td>1030.4</td>\n",
       "      <td>14.1</td>\n",
       "      <td>64</td>\n",
       "      <td>7.0</td>\n",
       "      <td>N</td>\n",
       "      <td>13</td>\n",
       "      <td>1024.8</td>\n",
       "    </tr>\n",
       "    <tr>\n",
       "      <th>3</th>\n",
       "      <td>NaN</td>\n",
       "      <td>2023-07-4</td>\n",
       "      <td>8.3</td>\n",
       "      <td>13.6</td>\n",
       "      <td>0.0</td>\n",
       "      <td>0.8</td>\n",
       "      <td>0.0</td>\n",
       "      <td>NE</td>\n",
       "      <td>15.0</td>\n",
       "      <td>07:48</td>\n",
       "      <td>...</td>\n",
       "      <td>7</td>\n",
       "      <td>NNE</td>\n",
       "      <td>9</td>\n",
       "      <td>1017.9</td>\n",
       "      <td>13.4</td>\n",
       "      <td>77</td>\n",
       "      <td>8.0</td>\n",
       "      <td>NE</td>\n",
       "      <td>9</td>\n",
       "      <td>1012.7</td>\n",
       "    </tr>\n",
       "    <tr>\n",
       "      <th>4</th>\n",
       "      <td>NaN</td>\n",
       "      <td>2023-07-5</td>\n",
       "      <td>10.8</td>\n",
       "      <td>14.7</td>\n",
       "      <td>2.4</td>\n",
       "      <td>0.0</td>\n",
       "      <td>3.1</td>\n",
       "      <td>NNW</td>\n",
       "      <td>31.0</td>\n",
       "      <td>14:36</td>\n",
       "      <td>...</td>\n",
       "      <td>7</td>\n",
       "      <td>NW</td>\n",
       "      <td>4</td>\n",
       "      <td>1012.2</td>\n",
       "      <td>13.7</td>\n",
       "      <td>56</td>\n",
       "      <td>5.0</td>\n",
       "      <td>NNW</td>\n",
       "      <td>13</td>\n",
       "      <td>1011.2</td>\n",
       "    </tr>\n",
       "  </tbody>\n",
       "</table>\n",
       "<p>5 rows × 22 columns</p>\n",
       "</div>"
      ],
      "text/plain": [
       "   Daily Weather Observations for Melbourne, Victoria for July 2023 - August 2024  \\\n",
       "0                                                NaN                                \n",
       "1                                                NaN                                \n",
       "2                                                NaN                                \n",
       "3                                                NaN                                \n",
       "4                                                NaN                                \n",
       "\n",
       "        Date  Minimum temperature (°C)  Maximum temperature (°C)  \\\n",
       "0  2023-07-1                       9.7                      13.5   \n",
       "1  2023-07-2                       9.6                      12.8   \n",
       "2  2023-07-3                       8.2                      14.5   \n",
       "3  2023-07-4                       8.3                      13.6   \n",
       "4  2023-07-5                      10.8                      14.7   \n",
       "\n",
       "   Rainfall (mm)  Evaporation (mm)  Sunshine (hours)  \\\n",
       "0            0.4               2.6               4.2   \n",
       "1            0.6               0.0               0.2   \n",
       "2            0.4               1.2               0.2   \n",
       "3            0.0               0.8               0.0   \n",
       "4            2.4               0.0               3.1   \n",
       "\n",
       "  Direction of maximum wind gust   Speed of maximum wind gust (km/h)  \\\n",
       "0                             SSW                               33.0   \n",
       "1                               S                               17.0   \n",
       "2                               N                               20.0   \n",
       "3                              NE                               15.0   \n",
       "4                             NNW                               31.0   \n",
       "\n",
       "  Time of maximum wind gust  ...  9am cloud amount (oktas)  \\\n",
       "0                     12:32  ...                         1   \n",
       "1                     11:02  ...                         6   \n",
       "2                     14:58  ...                         7   \n",
       "3                     07:48  ...                         7   \n",
       "4                     14:36  ...                         7   \n",
       "\n",
       "   9am wind direction  9am wind speed (km/h) 9am MSL pressure (hPa)  \\\n",
       "0                   W                     11                 1023.2   \n",
       "1                  SW                      6                 1033.9   \n",
       "2                 NNE                      7                 1030.4   \n",
       "3                 NNE                      9                 1017.9   \n",
       "4                  NW                      4                 1012.2   \n",
       "\n",
       "  3pm Temperature (°C)  3pm relative humidity (%)  3pm cloud amount (oktas)  \\\n",
       "0                 11.3                         89                       6.0   \n",
       "1                 11.9                         83                       7.0   \n",
       "2                 14.1                         64                       7.0   \n",
       "3                 13.4                         77                       8.0   \n",
       "4                 13.7                         56                       5.0   \n",
       "\n",
       "   3pm wind direction  3pm wind speed (km/h) 3pm MSL pressure (hPa)  \n",
       "0                  SW                      9                 1025.8  \n",
       "1                 SSW                      9                 1032.7  \n",
       "2                   N                     13                 1024.8  \n",
       "3                  NE                      9                 1012.7  \n",
       "4                 NNW                     13                 1011.2  \n",
       "\n",
       "[5 rows x 22 columns]"
      ]
     },
     "execution_count": 3,
     "metadata": {},
     "output_type": "execute_result"
    }
   ],
   "source": [
    "# view weather data\n",
    "weather.head()"
   ]
  },
  {
   "cell_type": "code",
   "execution_count": 4,
   "id": "12ad7a07",
   "metadata": {},
   "outputs": [],
   "source": [
    "# drop columns that are not included in the weather forecast and therefore don't influence my decision to go riding\n",
    "weather = weather.drop(columns=['Daily Weather Observations for Melbourne, Victoria for July 2023 - August 2024', \n",
    "                               'Evaporation (mm)', 'Direction of maximum wind gust ', 'Time of maximum wind gust', \n",
    "                               '9am Temperature (°C)', '9am relative humidity (%)', '9am cloud amount (oktas)', \n",
    "                               '9am wind direction', '9am MSL pressure (hPa)', '3pm Temperature (°C)', \n",
    "                                '3pm relative humidity (%)', '3pm wind direction', '3pm cloud amount (oktas)', '3pm MSL pressure (hPa)'])"
   ]
  },
  {
   "cell_type": "code",
   "execution_count": 5,
   "id": "74953019",
   "metadata": {},
   "outputs": [
    {
     "data": {
      "text/plain": [
       "Date                                  string\n",
       "Minimum temperature (°C)             Float64\n",
       "Maximum temperature (°C)             Float64\n",
       "Rainfall (mm)                        Float64\n",
       "Sunshine (hours)                     Float64\n",
       "Speed of maximum wind gust (km/h)      Int64\n",
       "9am wind speed (km/h)                 string\n",
       "3pm wind speed (km/h)                 string\n",
       "dtype: object"
      ]
     },
     "execution_count": 5,
     "metadata": {},
     "output_type": "execute_result"
    }
   ],
   "source": [
    "# convert data types to their correct type\n",
    "weather = weather.convert_dtypes(infer_objects=True)\n",
    "weather.dtypes"
   ]
  },
  {
   "cell_type": "markdown",
   "id": "794c7170",
   "metadata": {},
   "source": [
    "The two wind speed columns could not be changed to integers and appear as strings due to the presence of textual data. After reviewing the original data source, it can be seen that some entries have the word Calm listed instead of the actual speed. Where 'Calm' appears, I will replace it with the wind speed from the other reading on the same day."
   ]
  },
  {
   "cell_type": "code",
   "execution_count": 6,
   "id": "f4a68e13",
   "metadata": {
    "scrolled": false
   },
   "outputs": [
    {
     "data": {
      "text/plain": [
       "Date                                 datetime64[ns]\n",
       "Minimum temperature (°C)                    Float64\n",
       "Maximum temperature (°C)                    Float64\n",
       "Rainfall (mm)                               Float64\n",
       "Sunshine (hours)                            Float64\n",
       "Speed of maximum wind gust (km/h)             Int64\n",
       "9am wind speed (km/h)                         int64\n",
       "3pm wind speed (km/h)                         int64\n",
       "dtype: object"
      ]
     },
     "execution_count": 6,
     "metadata": {},
     "output_type": "execute_result"
    }
   ],
   "source": [
    "# update missing wind speed with value from second wind speed column.\n",
    "weather['9am wind speed (km/h)'] = np.where(weather['9am wind speed (km/h)'] == 'Calm', weather['3pm wind speed (km/h)'], weather['9am wind speed (km/h)'])\n",
    "weather['3pm wind speed (km/h)'] = np.where(weather['3pm wind speed (km/h)'] == 'Calm', weather['9am wind speed (km/h)'], weather['3pm wind speed (km/h)'])\n",
    "# convert data types\n",
    "weather['9am wind speed (km/h)'] = pd.to_numeric(weather['9am wind speed (km/h)'], errors='coerce')\n",
    "weather['3pm wind speed (km/h)'] = pd.to_numeric(weather['3pm wind speed (km/h)'], errors='coerce')\n",
    "# convert to datetime format\n",
    "weather['Date'] = pd.to_datetime(weather['Date'])\n",
    "weather.dtypes"
   ]
  },
  {
   "cell_type": "code",
   "execution_count": 7,
   "id": "6dcb4ebd",
   "metadata": {
    "scrolled": true
   },
   "outputs": [
    {
     "data": {
      "text/html": [
       "<div>\n",
       "<style scoped>\n",
       "    .dataframe tbody tr th:only-of-type {\n",
       "        vertical-align: middle;\n",
       "    }\n",
       "\n",
       "    .dataframe tbody tr th {\n",
       "        vertical-align: top;\n",
       "    }\n",
       "\n",
       "    .dataframe thead th {\n",
       "        text-align: right;\n",
       "    }\n",
       "</style>\n",
       "<table border=\"1\" class=\"dataframe\">\n",
       "  <thead>\n",
       "    <tr style=\"text-align: right;\">\n",
       "      <th></th>\n",
       "      <th>Date</th>\n",
       "      <th>Minimum temperature (°C)</th>\n",
       "      <th>Maximum temperature (°C)</th>\n",
       "      <th>Rainfall (mm)</th>\n",
       "      <th>Sunshine (hours)</th>\n",
       "      <th>Speed of maximum wind gust (km/h)</th>\n",
       "      <th>9am wind speed (km/h)</th>\n",
       "      <th>3pm wind speed (km/h)</th>\n",
       "    </tr>\n",
       "  </thead>\n",
       "  <tbody>\n",
       "    <tr>\n",
       "      <th>39</th>\n",
       "      <td>2023-08-09</td>\n",
       "      <td>5.5</td>\n",
       "      <td>18.4</td>\n",
       "      <td>0.2</td>\n",
       "      <td>8.5</td>\n",
       "      <td>&lt;NA&gt;</td>\n",
       "      <td>13</td>\n",
       "      <td>24</td>\n",
       "    </tr>\n",
       "    <tr>\n",
       "      <th>241</th>\n",
       "      <td>2024-02-27</td>\n",
       "      <td>12.9</td>\n",
       "      <td>27.4</td>\n",
       "      <td>0.0</td>\n",
       "      <td>10.9</td>\n",
       "      <td>&lt;NA&gt;</td>\n",
       "      <td>7</td>\n",
       "      <td>11</td>\n",
       "    </tr>\n",
       "    <tr>\n",
       "      <th>342</th>\n",
       "      <td>2024-06-07</td>\n",
       "      <td>9.3</td>\n",
       "      <td>16.0</td>\n",
       "      <td>0.0</td>\n",
       "      <td>1.7</td>\n",
       "      <td>&lt;NA&gt;</td>\n",
       "      <td>7</td>\n",
       "      <td>13</td>\n",
       "    </tr>\n",
       "  </tbody>\n",
       "</table>\n",
       "</div>"
      ],
      "text/plain": [
       "          Date  Minimum temperature (°C)  Maximum temperature (°C)  \\\n",
       "39  2023-08-09                       5.5                      18.4   \n",
       "241 2024-02-27                      12.9                      27.4   \n",
       "342 2024-06-07                       9.3                      16.0   \n",
       "\n",
       "     Rainfall (mm)  Sunshine (hours)  Speed of maximum wind gust (km/h)  \\\n",
       "39             0.2               8.5                               <NA>   \n",
       "241            0.0              10.9                               <NA>   \n",
       "342            0.0               1.7                               <NA>   \n",
       "\n",
       "     9am wind speed (km/h)  3pm wind speed (km/h)  \n",
       "39                      13                     24  \n",
       "241                      7                     11  \n",
       "342                      7                     13  "
      ]
     },
     "execution_count": 7,
     "metadata": {},
     "output_type": "execute_result"
    }
   ],
   "source": [
    "# check for missing data\n",
    "weather[pd.isnull(weather).any(axis=1)]"
   ]
  },
  {
   "cell_type": "markdown",
   "id": "50ad8087",
   "metadata": {},
   "source": [
    "The missing data in the maximum wind gust column will be imputed once the two data sets have been merged and the wind speed columns have been combined into one based on the corresponding activity time from the cycling dataset.\n",
    "\n",
    "#### Cycling Data"
   ]
  },
  {
   "cell_type": "code",
   "execution_count": 8,
   "id": "61df8783",
   "metadata": {
    "scrolled": true
   },
   "outputs": [
    {
     "name": "stdout",
     "output_type": "stream",
     "text": [
      "Index(['Activity ID', 'Activity Date', 'Activity Name', 'Activity Type',\n",
      "       'Activity Description', 'Elapsed Time', 'Distance', 'Max Heart Rate',\n",
      "       'Relative Effort', 'Commute', 'Activity Private Note', 'Activity Gear',\n",
      "       'Filename', 'Athlete Weight', 'Bike Weight', 'Elapsed Time.1',\n",
      "       'Moving Time', 'Distance.1', 'Max Speed', 'Average Speed',\n",
      "       'Elevation Gain', 'Elevation Loss', 'Elevation Low', 'Elevation High',\n",
      "       'Max Grade', 'Average Grade', 'Average Positive Grade',\n",
      "       'Average Negative Grade', 'Max Cadence', 'Average Cadence',\n",
      "       'Max Heart Rate.1', 'Average Heart Rate', 'Max Watts', 'Average Watts',\n",
      "       'Calories', 'Max Temperature', 'Average Temperature',\n",
      "       'Relative Effort.1', 'Total Work', 'Number of Runs', 'Uphill Time',\n",
      "       'Downhill Time', 'Other Time', 'Perceived Exertion', 'Type',\n",
      "       'Start Time', 'Weighted Average Power', 'Power Count',\n",
      "       'Prefer Perceived Exertion', 'Perceived Relative Effort', 'Commute.1',\n",
      "       'Total Weight Lifted', 'From Upload', 'Grade Adjusted Distance',\n",
      "       'Weather Observation Time', 'Weather Condition', 'Weather Temperature',\n",
      "       'Apparent Temperature', 'Dewpoint', 'Humidity', 'Weather Pressure',\n",
      "       'Wind Speed', 'Wind Gust', 'Wind Bearing', 'Precipitation Intensity',\n",
      "       'Sunrise Time', 'Sunset Time', 'Moon Phase', 'Bike', 'Gear',\n",
      "       'Precipitation Probability', 'Precipitation Type', 'Cloud Cover',\n",
      "       'Weather Visibility', 'UV Index', 'Weather Ozone', 'Jump Count',\n",
      "       'Total Grit', 'Average Flow', 'Flagged', 'Average Elapsed Speed',\n",
      "       'Dirt Distance', 'Newly Explored Distance',\n",
      "       'Newly Explored Dirt Distance', 'Activity Count', 'Total Steps',\n",
      "       'Carbon Saved', 'Pool Length', 'Training Load', 'Intensity',\n",
      "       'Average Grade Adjusted Pace', 'Timer Time', 'Total Cycles', 'Media'],\n",
      "      dtype='object')\n"
     ]
    }
   ],
   "source": [
    "# view all columns in the cycling DataFrame\n",
    "print(cycling.columns)\n",
    "# drop unnecessary columns\n",
    "cycling = cycling[['Activity Date', 'Moving Time', 'Distance.1', 'Average Speed', 'Elevation Gain',\n",
    "                   'Average Temperature']]"
   ]
  },
  {
   "cell_type": "code",
   "execution_count": 9,
   "id": "2d2bda4a",
   "metadata": {
    "scrolled": false
   },
   "outputs": [
    {
     "data": {
      "text/html": [
       "<div>\n",
       "<style scoped>\n",
       "    .dataframe tbody tr th:only-of-type {\n",
       "        vertical-align: middle;\n",
       "    }\n",
       "\n",
       "    .dataframe tbody tr th {\n",
       "        vertical-align: top;\n",
       "    }\n",
       "\n",
       "    .dataframe thead th {\n",
       "        text-align: right;\n",
       "    }\n",
       "</style>\n",
       "<table border=\"1\" class=\"dataframe\">\n",
       "  <thead>\n",
       "    <tr style=\"text-align: right;\">\n",
       "      <th></th>\n",
       "      <th>Activity Date</th>\n",
       "      <th>Moving Time</th>\n",
       "      <th>Distance.1</th>\n",
       "      <th>Average Speed</th>\n",
       "      <th>Elevation Gain</th>\n",
       "      <th>Average Temperature</th>\n",
       "    </tr>\n",
       "  </thead>\n",
       "  <tbody>\n",
       "  </tbody>\n",
       "</table>\n",
       "</div>"
      ],
      "text/plain": [
       "Empty DataFrame\n",
       "Columns: [Activity Date, Moving Time, Distance.1, Average Speed, Elevation Gain, Average Temperature]\n",
       "Index: []"
      ]
     },
     "execution_count": 9,
     "metadata": {},
     "output_type": "execute_result"
    }
   ],
   "source": [
    "# check for missing data\n",
    "cycling[pd.isnull(cycling).any(axis=1)]"
   ]
  },
  {
   "cell_type": "code",
   "execution_count": 10,
   "id": "026039e2",
   "metadata": {
    "scrolled": true
   },
   "outputs": [
    {
     "data": {
      "text/html": [
       "<div>\n",
       "<style scoped>\n",
       "    .dataframe tbody tr th:only-of-type {\n",
       "        vertical-align: middle;\n",
       "    }\n",
       "\n",
       "    .dataframe tbody tr th {\n",
       "        vertical-align: top;\n",
       "    }\n",
       "\n",
       "    .dataframe thead th {\n",
       "        text-align: right;\n",
       "    }\n",
       "</style>\n",
       "<table border=\"1\" class=\"dataframe\">\n",
       "  <thead>\n",
       "    <tr style=\"text-align: right;\">\n",
       "      <th></th>\n",
       "      <th>Activity Date</th>\n",
       "      <th>Moving Time</th>\n",
       "      <th>Distance.1</th>\n",
       "      <th>Average Speed</th>\n",
       "      <th>Elevation Gain</th>\n",
       "      <th>Average Temperature</th>\n",
       "    </tr>\n",
       "  </thead>\n",
       "  <tbody>\n",
       "    <tr>\n",
       "      <th>0</th>\n",
       "      <td>5 Jul 2023, 06:40:41</td>\n",
       "      <td>3704.0</td>\n",
       "      <td>30432.550781</td>\n",
       "      <td>8.216131</td>\n",
       "      <td>30.0</td>\n",
       "      <td>11.0</td>\n",
       "    </tr>\n",
       "    <tr>\n",
       "      <th>1</th>\n",
       "      <td>10 Jul 2023, 06:55:26</td>\n",
       "      <td>3748.0</td>\n",
       "      <td>30410.199219</td>\n",
       "      <td>8.113714</td>\n",
       "      <td>70.0</td>\n",
       "      <td>13.0</td>\n",
       "    </tr>\n",
       "    <tr>\n",
       "      <th>2</th>\n",
       "      <td>12 Jul 2023, 07:39:00</td>\n",
       "      <td>4412.0</td>\n",
       "      <td>35607.578125</td>\n",
       "      <td>8.070621</td>\n",
       "      <td>40.0</td>\n",
       "      <td>13.0</td>\n",
       "    </tr>\n",
       "    <tr>\n",
       "      <th>3</th>\n",
       "      <td>19 Jul 2023, 07:11:12</td>\n",
       "      <td>4264.0</td>\n",
       "      <td>35598.378906</td>\n",
       "      <td>8.348588</td>\n",
       "      <td>40.0</td>\n",
       "      <td>9.0</td>\n",
       "    </tr>\n",
       "    <tr>\n",
       "      <th>4</th>\n",
       "      <td>21 Jul 2023, 01:48:48</td>\n",
       "      <td>3636.0</td>\n",
       "      <td>31191.509766</td>\n",
       "      <td>8.578523</td>\n",
       "      <td>59.0</td>\n",
       "      <td>13.0</td>\n",
       "    </tr>\n",
       "  </tbody>\n",
       "</table>\n",
       "</div>"
      ],
      "text/plain": [
       "           Activity Date  Moving Time    Distance.1  Average Speed  \\\n",
       "0   5 Jul 2023, 06:40:41       3704.0  30432.550781       8.216131   \n",
       "1  10 Jul 2023, 06:55:26       3748.0  30410.199219       8.113714   \n",
       "2  12 Jul 2023, 07:39:00       4412.0  35607.578125       8.070621   \n",
       "3  19 Jul 2023, 07:11:12       4264.0  35598.378906       8.348588   \n",
       "4  21 Jul 2023, 01:48:48       3636.0  31191.509766       8.578523   \n",
       "\n",
       "   Elevation Gain  Average Temperature  \n",
       "0            30.0                 11.0  \n",
       "1            70.0                 13.0  \n",
       "2            40.0                 13.0  \n",
       "3            40.0                  9.0  \n",
       "4            59.0                 13.0  "
      ]
     },
     "execution_count": 10,
     "metadata": {},
     "output_type": "execute_result"
    }
   ],
   "source": [
    "# view cycling data\n",
    "cycling.head()"
   ]
  },
  {
   "cell_type": "markdown",
   "id": "1bc9a763",
   "metadata": {},
   "source": [
    "Having reviewed this data, I can see that all of the times in the Activity Date column are ten hours behind (indicating they are in GMT instead of AEST). I will be needing this information later to determine the correct wind speed and so must update this information."
   ]
  },
  {
   "cell_type": "code",
   "execution_count": 11,
   "id": "5da74576",
   "metadata": {},
   "outputs": [],
   "source": [
    "# convert Activity Date into a datetime object\n",
    "cycling['Activity Date'] = pd.to_datetime(cycling['Activity Date'], format='%d %b %Y, %H:%M:%S')\n",
    "# add ten hours to each value\n",
    "cycling['Activity Date'] = cycling['Activity Date'] + pd.to_timedelta(10, unit='h')\n",
    "# split Activity Date column into separate Date and Time columns with Date matching the formatting from weather dataframe.\n",
    "cycling['Date'] = pd.to_datetime(cycling['Activity Date'], format='%d %b %Y, %H:%M:%S').dt.strftime('%Y-%m-%d')\n",
    "cycling['Time'] = pd.to_datetime(cycling['Activity Date'], format='%d %b %Y, %H:%M:%S').dt.strftime('%H:%M:%S')\n",
    "# drop original Activity Date column\n",
    "cycling = cycling.drop(columns=['Activity Date'])\n",
    "# Move Date and Time columns to front\n",
    "cycling.insert(0, 'Date', cycling.pop('Date'))\n",
    "cycling.insert(1, 'Time', cycling.pop('Time'))\n",
    "# update data types\n",
    "cycling['Date'] = pd.to_datetime(cycling['Date'])\n",
    "cycling['Time'] = pd.to_datetime(cycling['Time'])\n",
    "# remove date from Time column\n",
    "cycling['Time'] = pd.to_datetime(cycling['Time'], format='%d %b %Y, %H:%M:%S').dt.strftime('%H:%M:%S')"
   ]
  },
  {
   "cell_type": "markdown",
   "id": "d56227fa",
   "metadata": {},
   "source": [
    "The data is in seconds and meters and needs to be updated to be in minutes and kilometers."
   ]
  },
  {
   "cell_type": "code",
   "execution_count": 12,
   "id": "b7b144b6",
   "metadata": {},
   "outputs": [],
   "source": [
    "# update data values\n",
    "# convert Moving Time to minutes\n",
    "cycling['Moving Time'] = (cycling['Moving Time'] / 60).round(2)\n",
    "# convert Distance to kilometers\n",
    "cycling['Distance.1'] = (cycling['Distance.1'] / 1000).round(2)\n",
    "# convert Average Speed to kmph\n",
    "cycling['Average Speed'] = (cycling['Average Speed'] * 3.6).round(2)"
   ]
  },
  {
   "cell_type": "code",
   "execution_count": 13,
   "id": "6cca419e",
   "metadata": {},
   "outputs": [],
   "source": [
    "# update column names\n",
    "cycling.rename(columns={'Moving Time': 'Moving Time (mins)', 'Distance.1': 'Distance (km)', 'Average Speed': 'Average Speed (km/h)', 'Elevation Gain': 'Elevation Gain (m)', 'Average Temperature': 'Average Temperature during ride'}, inplace=True)"
   ]
  },
  {
   "cell_type": "markdown",
   "id": "5290908f",
   "metadata": {},
   "source": [
    "Both datasets have now been cleaned and can be merged into a single data source based on their shared Date columns."
   ]
  },
  {
   "cell_type": "code",
   "execution_count": 14,
   "id": "6d47b186",
   "metadata": {},
   "outputs": [
    {
     "data": {
      "text/html": [
       "<div>\n",
       "<style scoped>\n",
       "    .dataframe tbody tr th:only-of-type {\n",
       "        vertical-align: middle;\n",
       "    }\n",
       "\n",
       "    .dataframe tbody tr th {\n",
       "        vertical-align: top;\n",
       "    }\n",
       "\n",
       "    .dataframe thead th {\n",
       "        text-align: right;\n",
       "    }\n",
       "</style>\n",
       "<table border=\"1\" class=\"dataframe\">\n",
       "  <thead>\n",
       "    <tr style=\"text-align: right;\">\n",
       "      <th></th>\n",
       "      <th>Date</th>\n",
       "      <th>Time</th>\n",
       "      <th>Moving Time (mins)</th>\n",
       "      <th>Distance (km)</th>\n",
       "      <th>Average Speed (km/h)</th>\n",
       "      <th>Elevation Gain (m)</th>\n",
       "      <th>Average Temperature during ride</th>\n",
       "    </tr>\n",
       "  </thead>\n",
       "  <tbody>\n",
       "    <tr>\n",
       "      <th>0</th>\n",
       "      <td>2023-07-05</td>\n",
       "      <td>16:40:41</td>\n",
       "      <td>61.73</td>\n",
       "      <td>30.43</td>\n",
       "      <td>29.58</td>\n",
       "      <td>30.0</td>\n",
       "      <td>11.0</td>\n",
       "    </tr>\n",
       "    <tr>\n",
       "      <th>1</th>\n",
       "      <td>2023-07-10</td>\n",
       "      <td>16:55:26</td>\n",
       "      <td>62.47</td>\n",
       "      <td>30.41</td>\n",
       "      <td>29.21</td>\n",
       "      <td>70.0</td>\n",
       "      <td>13.0</td>\n",
       "    </tr>\n",
       "    <tr>\n",
       "      <th>2</th>\n",
       "      <td>2023-07-12</td>\n",
       "      <td>17:39:00</td>\n",
       "      <td>73.53</td>\n",
       "      <td>35.61</td>\n",
       "      <td>29.05</td>\n",
       "      <td>40.0</td>\n",
       "      <td>13.0</td>\n",
       "    </tr>\n",
       "    <tr>\n",
       "      <th>3</th>\n",
       "      <td>2023-07-19</td>\n",
       "      <td>17:11:12</td>\n",
       "      <td>71.07</td>\n",
       "      <td>35.60</td>\n",
       "      <td>30.05</td>\n",
       "      <td>40.0</td>\n",
       "      <td>9.0</td>\n",
       "    </tr>\n",
       "    <tr>\n",
       "      <th>4</th>\n",
       "      <td>2023-07-21</td>\n",
       "      <td>11:48:48</td>\n",
       "      <td>60.60</td>\n",
       "      <td>31.19</td>\n",
       "      <td>30.88</td>\n",
       "      <td>59.0</td>\n",
       "      <td>13.0</td>\n",
       "    </tr>\n",
       "  </tbody>\n",
       "</table>\n",
       "</div>"
      ],
      "text/plain": [
       "        Date      Time  Moving Time (mins)  Distance (km)  \\\n",
       "0 2023-07-05  16:40:41               61.73          30.43   \n",
       "1 2023-07-10  16:55:26               62.47          30.41   \n",
       "2 2023-07-12  17:39:00               73.53          35.61   \n",
       "3 2023-07-19  17:11:12               71.07          35.60   \n",
       "4 2023-07-21  11:48:48               60.60          31.19   \n",
       "\n",
       "   Average Speed (km/h)  Elevation Gain (m)  Average Temperature during ride  \n",
       "0                 29.58                30.0                             11.0  \n",
       "1                 29.21                70.0                             13.0  \n",
       "2                 29.05                40.0                             13.0  \n",
       "3                 30.05                40.0                              9.0  \n",
       "4                 30.88                59.0                             13.0  "
      ]
     },
     "execution_count": 14,
     "metadata": {},
     "output_type": "execute_result"
    }
   ],
   "source": [
    "cycling.head()"
   ]
  },
  {
   "cell_type": "code",
   "execution_count": 15,
   "id": "708607f8",
   "metadata": {},
   "outputs": [],
   "source": [
    "# merge data sets based on Date column\n",
    "combineddf = weather.merge(cycling, how='left', on='Date')"
   ]
  },
  {
   "cell_type": "markdown",
   "id": "f1cc7140",
   "metadata": {},
   "source": [
    "## Data preparation\n",
    "\n",
    "Now that the two datasets have been cleaned, I will prepare the data to be used in the machine learning task. This involves:\n",
    "1. Creating a boolean column that displays a 0 on dates where no ride has occurred and a 1 against dates where a ride occured.\n",
    "\n",
    "2. Creating a new wind column that selects the 9am or 3pm value based on time of ride. After creating this, the Time column is no longer required.\n",
    "\n",
    "3. Creating additional feature columns that compare the values for the current day against the preceding 4 day average. This is important as it's often not the explicit weather that determines whether I go cycling, or else I just wouldn't ride during winter, instead I'm often choosing the nicer days of each week."
   ]
  },
  {
   "cell_type": "code",
   "execution_count": 16,
   "id": "708418fc",
   "metadata": {},
   "outputs": [],
   "source": [
    "#create a boolean Ride YN (1/0) column\n",
    "# initialise column with zeros\n",
    "combineddf.insert(8, 'Cycling Activity (Y/N)', 0)\n",
    "# edit value to equal 1 where cycling data exists\n",
    "combineddf.loc[combineddf['Moving Time (mins)'].notna(), 'Cycling Activity (Y/N)'] = 1"
   ]
  },
  {
   "cell_type": "markdown",
   "id": "31ef4063",
   "metadata": {},
   "source": [
    "The single wind speed column will select its value based on the Time column. If the Time value is before midday, the 9am wind speed will be used. If the time value is after midday, the 3pm wind speed will be used. If no ride took place on that day, that day's average value will be used."
   ]
  },
  {
   "cell_type": "code",
   "execution_count": 17,
   "id": "90c6d6b0",
   "metadata": {},
   "outputs": [],
   "source": [
    "# convert Time column to datetime data type keeping just time portion\n",
    "combineddf['Time'] = pd.to_datetime(combineddf['Time'], format='%H:%M:%S').dt.time\n",
    "\n",
    "# create single wind speed column\n",
    "combineddf['Wind speed (km/h)'] = combineddf.apply(\n",
    "    lambda row: np.nanmean([row['9am wind speed (km/h)'], row['3pm wind speed (km/h)']]) if pd.isna(row['Time'])\n",
    "    else row['9am wind speed (km/h)'] if row['Time'].hour < 12\n",
    "    else row['3pm wind speed (km/h)'],\n",
    "    axis=1)"
   ]
  },
  {
   "cell_type": "code",
   "execution_count": 18,
   "id": "bb0c8ec2",
   "metadata": {},
   "outputs": [],
   "source": [
    "# drop the Time, 9am and 3pm columns.\n",
    "combineddf = combineddf.drop(columns=['Time', '9am wind speed (km/h)', '3pm wind speed (km/h)'])\n",
    "# Move the new Wind Speed column to be with the weather data.\n",
    "combineddf.insert(6, 'Wind speed (km/h)', combineddf.pop('Wind speed (km/h)'))"
   ]
  },
  {
   "cell_type": "markdown",
   "id": "1883cef9",
   "metadata": {},
   "source": [
    "I'll next create four additional feature columns comparing min temp, max temp, rainfall and wind speed against the average values of the previous 4 days. This enables the current weather to be compared to that of the short term average, helping to factor in the changing weather throughout the year. Negative figures indicate the current day's value is below the short term average and positive figures indicate that the current day's value is above the short term average."
   ]
  },
  {
   "cell_type": "code",
   "execution_count": 19,
   "id": "63dca1b1",
   "metadata": {},
   "outputs": [],
   "source": [
    "# create columns to view how that days weather differed from the previous 4 day average\n",
    "\n",
    "# Shift the column by 1 day to exclude the current day from the rolling window\n",
    "combineddf['Shifted Col'] = combineddf['Minimum temperature (°C)'].shift(1)\n",
    "# calculate 4-day rolling average Min Temp\n",
    "combineddf['4_day_avg'] = combineddf['Shifted Col'].rolling(window=4).mean()\n",
    "# calculate the difference between Min Temp and the 4-day rolling average\n",
    "combineddf.insert(2, '4DAvg Difference (Min Temp)', combineddf['Minimum temperature (°C)'] - combineddf['4_day_avg'])\n",
    "\n",
    "\n",
    "# Shift the column by 1 day to exclude the current day from the rolling window\n",
    "combineddf['Shifted Col'] = combineddf['Maximum temperature (°C)'].shift(1)\n",
    "# calculate 4-day rolling average Max Temp\n",
    "combineddf['4_day_avg'] = combineddf['Shifted Col'].rolling(window=4).mean()\n",
    "# calculate the difference between Max Temp and the 5-day rolling average\n",
    "combineddf.insert(4, '4DAvg Difference (Max Temp)', combineddf['Maximum temperature (°C)'] - combineddf['4_day_avg'])\n",
    "\n",
    "\n",
    "# Shift the column by 1 day to exclude the current day from the rolling window\n",
    "combineddf['Shifted Col'] = combineddf['Rainfall (mm)'].shift(1)\n",
    "# calculate 4-day rolling average Rainfall\n",
    "combineddf['4_day_avg'] = combineddf['Shifted Col'].rolling(window=4).mean()\n",
    "# calculate the difference between Rainfall and the 4-day rolling average\n",
    "combineddf.insert(6, '4DAvg Difference (Rainfall)', combineddf['Rainfall (mm)'] - combineddf['4_day_avg'])\n",
    "\n",
    "\n",
    "# Shift the column by 1 day to exclude the current day from the rolling window\n",
    "combineddf['Shifted Col'] = combineddf['Wind speed (km/h)'].shift(1)\n",
    "# calculate 4-day rolling average Wind Speed\n",
    "combineddf['4_day_avg'] = combineddf['Shifted Col'].rolling(window=4).mean()\n",
    "# calculate the difference between Rainfall and the 4-day rolling average\n",
    "combineddf.insert(10, '4DAvg Difference (Wind Speed)', combineddf['Wind speed (km/h)'] - combineddf['4_day_avg'])\n",
    "\n",
    "# drop columns\n",
    "combineddf = combineddf.drop(columns=['Shifted Col', '4_day_avg'])"
   ]
  },
  {
   "cell_type": "markdown",
   "id": "8bf6b4d2",
   "metadata": {},
   "source": [
    "The first four rows of data have missing data in their 4DAvg columns due to their being no earlier data available to calculate these values. The simplest solution to resolve this is to drop these rows."
   ]
  },
  {
   "cell_type": "code",
   "execution_count": 20,
   "id": "11f21194",
   "metadata": {},
   "outputs": [],
   "source": [
    "# drop the 4 rows with missing values in the 4DAvg columns\n",
    "combineddf.drop(index=range(0,4), axis=0, inplace=True)\n",
    "# reset the index\n",
    "combineddf = combineddf.reset_index(drop=True)"
   ]
  },
  {
   "cell_type": "markdown",
   "id": "c75a8405",
   "metadata": {},
   "source": [
    "The missing Max Wind Gust values identified when cleaning the Weather data can now be filled with the average Max Wind Gust for their corresponding wind speeds."
   ]
  },
  {
   "cell_type": "code",
   "execution_count": 21,
   "id": "42a813cf",
   "metadata": {},
   "outputs": [],
   "source": [
    "# convert wind gust column to float\n",
    "combineddf['Speed of maximum wind gust (km/h)'] = combineddf['Speed of maximum wind gust (km/h)'].astype('float64')\n",
    "\n",
    "# fill missing max gust values based on average of corresponding wind speed values\n",
    "avg_gust = combineddf.loc[combineddf['Wind speed (km/h)'] == 18.5, 'Speed of maximum wind gust (km/h)'].mean()\n",
    "combineddf.loc[(combineddf['Wind speed (km/h)'] == 18.5) & (combineddf['Speed of maximum wind gust (km/h)'].isna()), \n",
    "               'Speed of maximum wind gust (km/h)'] = avg_gust\n",
    "\n",
    "\n",
    "avg_gust = combineddf.loc[combineddf['Wind speed (km/h)'] == 11.0, 'Speed of maximum wind gust (km/h)'].mean()\n",
    "combineddf.loc[(combineddf['Wind speed (km/h)'] == 11.0) & (combineddf['Speed of maximum wind gust (km/h)'].isna()), \n",
    "               'Speed of maximum wind gust (km/h)'] = avg_gust\n",
    "\n",
    "avg_gust = combineddf.loc[combineddf['Wind speed (km/h)'] == 10.0, 'Speed of maximum wind gust (km/h)'].mean()\n",
    "combineddf.loc[(combineddf['Wind speed (km/h)'] == 10.0) & (combineddf['Speed of maximum wind gust (km/h)'].isna()), \n",
    "               'Speed of maximum wind gust (km/h)'] = avg_gust"
   ]
  },
  {
   "cell_type": "markdown",
   "id": "918ad5a2",
   "metadata": {},
   "source": [
    "### Initial Analysis\n",
    "\n",
    "Before developing my model, I'll first complete a brief exploratory analysis of the data to uncover trends, patterns, and relationships that exist within it. "
   ]
  },
  {
   "cell_type": "code",
   "execution_count": 22,
   "id": "79f9a8e6",
   "metadata": {},
   "outputs": [
    {
     "name": "stdout",
     "output_type": "stream",
     "text": [
      "Number of rides during the period of data collection: 101\n",
      "Average number of rides per week: 1.94\n"
     ]
    }
   ],
   "source": [
    "# number of rides in the 6 months of data\n",
    "a = (combineddf['Cycling Activity (Y/N)'] == 1).sum()\n",
    "print('Number of rides during the period of data collection:', a)\n",
    "\n",
    "# average number of rides per week\n",
    "# extract the week number using the date column and count\n",
    "unique_weeks = combineddf['Date'].dt.isocalendar().week.nunique()\n",
    "\n",
    "print('Average number of rides per week:', round(a/unique_weeks, 2))"
   ]
  },
  {
   "cell_type": "code",
   "execution_count": 23,
   "id": "551a4692",
   "metadata": {
    "scrolled": false
   },
   "outputs": [
    {
     "data": {
      "image/png": "[encoded data removed]",
      "text/plain": [
       "<Figure size 720x432 with 1 Axes>"
      ]
     },
     "metadata": {
      "needs_background": "light"
     },
     "output_type": "display_data"
    }
   ],
   "source": [
    "# create weekday column\n",
    "combineddf.insert(1, \"Weekday\", combineddf['Date'].dt.day_name())\n",
    "\n",
    "# count number of activities that fall on each day\n",
    "activity_count = combineddf[combineddf['Cycling Activity (Y/N)'] == 1]['Weekday'].value_counts().reindex(['Monday', 'Tuesday', 'Wednesday', 'Thursday', 'Friday', 'Saturday', 'Sunday'], fill_value=0)\n",
    "\n",
    "# plot number of rides by day of week\n",
    "plt.figure(figsize=(10, 6))\n",
    "activity_count.plot(kind='bar', color='skyblue')\n",
    "plt.ylim([0, 20])\n",
    "plt.title('Number of Rides by Day of Week')\n",
    "plt.ylabel('Number of Activities')\n",
    "plt.xticks(rotation=45)\n",
    "plt.show()\n",
    "\n",
    "\n",
    "\n"
   ]
  },
  {
   "cell_type": "markdown",
   "id": "60f62f39",
   "metadata": {},
   "source": [
    "The below output displays the number of positive and negative values in each of the columns that compare the day's value to the 4-day average on the days I went cycling."
   ]
  },
  {
   "cell_type": "code",
   "execution_count": 24,
   "id": "44cab0ce",
   "metadata": {
    "scrolled": false
   },
   "outputs": [
    {
     "name": "stdout",
     "output_type": "stream",
     "text": [
      "Min Temp\n",
      "Number of positive values: 43\n",
      "Number of negative values: 58\n",
      "Max Temp\n",
      "Number of positive values: 51\n",
      "Number of negative values: 50\n",
      "Rainfall\n",
      "Number of positive values: 25\n",
      "Number of negative values: 50\n",
      "Wind Speed\n",
      "Number of positive values: 46\n",
      "Number of negative values: 53\n"
     ]
    }
   ],
   "source": [
    "# Proportion of positive and negative 4 day average values when I've gone for a ride.\n",
    "# Filter the DataFrame for only where Ive gone riding\n",
    "filtered_df = combineddf[combineddf['Cycling Activity (Y/N)'] == 1]\n",
    "\n",
    "# Count the number of positive and negative values in the Min Temp column\n",
    "positive_count = (filtered_df['4DAvg Difference (Min Temp)'] > 0).sum()\n",
    "negative_count = (filtered_df['4DAvg Difference (Min Temp)'] < 0).sum()\n",
    "\n",
    "print(\"Min Temp\")\n",
    "print(f\"Number of positive values: {positive_count}\")\n",
    "print(f\"Number of negative values: {negative_count}\")\n",
    "\n",
    "# Count the number of positive and negative values in the Max Temp column\n",
    "positive_count = (filtered_df['4DAvg Difference (Max Temp)'] > 0).sum()\n",
    "negative_count = (filtered_df['4DAvg Difference (Max Temp)'] < 0).sum()\n",
    "\n",
    "print(\"Max Temp\")\n",
    "print(f\"Number of positive values: {positive_count}\")\n",
    "print(f\"Number of negative values: {negative_count}\")\n",
    "\n",
    "# Count the number of positive and negative values in the Rainfall column\n",
    "positive_count = (filtered_df['4DAvg Difference (Rainfall)'] > 0).sum()\n",
    "negative_count = (filtered_df['4DAvg Difference (Rainfall)'] < 0).sum()\n",
    "\n",
    "print(\"Rainfall\")\n",
    "print(f\"Number of positive values: {positive_count}\")\n",
    "print(f\"Number of negative values: {negative_count}\")\n",
    "\n",
    "# Count the number of positive and negative values in the Wind Speed column\n",
    "positive_count = (filtered_df['4DAvg Difference (Wind Speed)'] > 0).sum()\n",
    "negative_count = (filtered_df['4DAvg Difference (Wind Speed)'] < 0).sum()\n",
    "\n",
    "print(\"Wind Speed\")\n",
    "print(f\"Number of positive values: {positive_count}\")\n",
    "print(f\"Number of negative values: {negative_count}\")\n"
   ]
  },
  {
   "cell_type": "markdown",
   "id": "8cc292cf",
   "metadata": {},
   "source": [
    "This information shows that on the days I went riding there was more often a lower negative temperature, it was much less rainy and slightly less windy."
   ]
  },
  {
   "cell_type": "markdown",
   "id": "b823314b",
   "metadata": {},
   "source": [
    "### Machine Learning\n",
    "\n",
    "I will now develop the machine learning model that will be used to predict whether I will go cycling based on the weather forecast. Various algorithms, including logistic regression, random forests, and XGBoost will be trialed. I will continue the process of feature engineering, using One Hot Encoding to extract the 'Weekday' categories, scale the data and remove irrelevant attributes to reduce noise within the dataset. The performance of each model will be assessed using accuracy, precision, recall, f1 score and the confusion matrix metrics."
   ]
  },
  {
   "cell_type": "code",
   "execution_count": 25,
   "id": "b53e1cf0",
   "metadata": {},
   "outputs": [],
   "source": [
    "# encode the Weekday categorical data using One Hot Encoder\n",
    "\n",
    "# initialise encoder\n",
    "encoder = OneHotEncoder(sparse=False)\n",
    "\n",
    "# fit and transform the data\n",
    "encoded_array = encoder.fit_transform(combineddf[['Weekday']])\n",
    "\n",
    "# create new dataframe with the encoded data\n",
    "encoded_df = pd.DataFrame(encoded_array, columns=encoder.get_feature_names_out(['Weekday']))\n",
    "\n",
    "# merge with original \"combineddf\" dataframe\n",
    "combineddf = pd.concat([combineddf, encoded_df], axis=1)"
   ]
  },
  {
   "cell_type": "code",
   "execution_count": 26,
   "id": "289baf0c",
   "metadata": {},
   "outputs": [
    {
     "data": {
      "text/plain": [
       "421"
      ]
     },
     "execution_count": 26,
     "metadata": {},
     "output_type": "execute_result"
    }
   ],
   "source": [
    "# drop irrelevant columns to reduce complexity and noise\n",
    "\n",
    "# date, weekday and cycling details columns are no longer needed\n",
    "combineddf = combineddf.drop(columns=['Date', 'Weekday', 'Moving Time (mins)', 'Distance (km)', \n",
    "                                      'Average Speed (km/h)', 'Elevation Gain (m)', \n",
    "                                      'Average Temperature during ride'])\n",
    "\n",
    "#Check that number of rows is at least 5 x the number of features\n",
    "len(combineddf)"
   ]
  },
  {
   "cell_type": "markdown",
   "id": "c69d5846",
   "metadata": {},
   "source": [
    "#### Logistic Regression"
   ]
  },
  {
   "cell_type": "code",
   "execution_count": 27,
   "id": "a13cf3d7",
   "metadata": {},
   "outputs": [
    {
     "data": {
      "text/html": [
       "<div>\n",
       "<style scoped>\n",
       "    .dataframe tbody tr th:only-of-type {\n",
       "        vertical-align: middle;\n",
       "    }\n",
       "\n",
       "    .dataframe tbody tr th {\n",
       "        vertical-align: top;\n",
       "    }\n",
       "\n",
       "    .dataframe thead th {\n",
       "        text-align: right;\n",
       "    }\n",
       "</style>\n",
       "<table border=\"1\" class=\"dataframe\">\n",
       "  <thead>\n",
       "    <tr style=\"text-align: right;\">\n",
       "      <th></th>\n",
       "      <th>Cycling Activity (Y/N)</th>\n",
       "      <th>Minimum temperature (°C)</th>\n",
       "      <th>4DAvg Difference (Min Temp)</th>\n",
       "      <th>Maximum temperature (°C)</th>\n",
       "      <th>4DAvg Difference (Max Temp)</th>\n",
       "      <th>Rainfall (mm)</th>\n",
       "      <th>4DAvg Difference (Rainfall)</th>\n",
       "      <th>Sunshine (hours)</th>\n",
       "      <th>Speed of maximum wind gust (km/h)</th>\n",
       "      <th>Wind speed (km/h)</th>\n",
       "      <th>4DAvg Difference (Wind Speed)</th>\n",
       "      <th>Weekday_Friday</th>\n",
       "      <th>Weekday_Monday</th>\n",
       "      <th>Weekday_Saturday</th>\n",
       "      <th>Weekday_Sunday</th>\n",
       "      <th>Weekday_Thursday</th>\n",
       "      <th>Weekday_Tuesday</th>\n",
       "      <th>Weekday_Wednesday</th>\n",
       "    </tr>\n",
       "  </thead>\n",
       "  <tbody>\n",
       "    <tr>\n",
       "      <th>0</th>\n",
       "      <td>1</td>\n",
       "      <td>10.8</td>\n",
       "      <td>1.85</td>\n",
       "      <td>14.7</td>\n",
       "      <td>1.1</td>\n",
       "      <td>2.4</td>\n",
       "      <td>2.05</td>\n",
       "      <td>3.1</td>\n",
       "      <td>31.0</td>\n",
       "      <td>13.0</td>\n",
       "      <td>3.875</td>\n",
       "      <td>0.0</td>\n",
       "      <td>0.0</td>\n",
       "      <td>0.0</td>\n",
       "      <td>0.0</td>\n",
       "      <td>0.0</td>\n",
       "      <td>0.0</td>\n",
       "      <td>1.0</td>\n",
       "    </tr>\n",
       "    <tr>\n",
       "      <th>1</th>\n",
       "      <td>0</td>\n",
       "      <td>10.0</td>\n",
       "      <td>0.775</td>\n",
       "      <td>15.2</td>\n",
       "      <td>1.3</td>\n",
       "      <td>0.0</td>\n",
       "      <td>-0.85</td>\n",
       "      <td>7.3</td>\n",
       "      <td>50.0</td>\n",
       "      <td>19.5</td>\n",
       "      <td>9.625</td>\n",
       "      <td>0.0</td>\n",
       "      <td>0.0</td>\n",
       "      <td>0.0</td>\n",
       "      <td>0.0</td>\n",
       "      <td>1.0</td>\n",
       "      <td>0.0</td>\n",
       "      <td>0.0</td>\n",
       "    </tr>\n",
       "    <tr>\n",
       "      <th>2</th>\n",
       "      <td>0</td>\n",
       "      <td>9.9</td>\n",
       "      <td>0.575</td>\n",
       "      <td>15.5</td>\n",
       "      <td>1.0</td>\n",
       "      <td>1.0</td>\n",
       "      <td>0.3</td>\n",
       "      <td>6.8</td>\n",
       "      <td>39.0</td>\n",
       "      <td>14.0</td>\n",
       "      <td>1.125</td>\n",
       "      <td>1.0</td>\n",
       "      <td>0.0</td>\n",
       "      <td>0.0</td>\n",
       "      <td>0.0</td>\n",
       "      <td>0.0</td>\n",
       "      <td>0.0</td>\n",
       "      <td>0.0</td>\n",
       "    </tr>\n",
       "    <tr>\n",
       "      <th>3</th>\n",
       "      <td>0</td>\n",
       "      <td>10.5</td>\n",
       "      <td>0.75</td>\n",
       "      <td>14.9</td>\n",
       "      <td>0.15</td>\n",
       "      <td>1.2</td>\n",
       "      <td>0.35</td>\n",
       "      <td>6.8</td>\n",
       "      <td>52.0</td>\n",
       "      <td>20.5</td>\n",
       "      <td>6.625</td>\n",
       "      <td>0.0</td>\n",
       "      <td>0.0</td>\n",
       "      <td>1.0</td>\n",
       "      <td>0.0</td>\n",
       "      <td>0.0</td>\n",
       "      <td>0.0</td>\n",
       "      <td>0.0</td>\n",
       "    </tr>\n",
       "    <tr>\n",
       "      <th>4</th>\n",
       "      <td>0</td>\n",
       "      <td>10.9</td>\n",
       "      <td>0.6</td>\n",
       "      <td>16.9</td>\n",
       "      <td>1.825</td>\n",
       "      <td>0.2</td>\n",
       "      <td>-0.95</td>\n",
       "      <td>3.5</td>\n",
       "      <td>39.0</td>\n",
       "      <td>10.0</td>\n",
       "      <td>-6.750</td>\n",
       "      <td>0.0</td>\n",
       "      <td>0.0</td>\n",
       "      <td>0.0</td>\n",
       "      <td>1.0</td>\n",
       "      <td>0.0</td>\n",
       "      <td>0.0</td>\n",
       "      <td>0.0</td>\n",
       "    </tr>\n",
       "  </tbody>\n",
       "</table>\n",
       "</div>"
      ],
      "text/plain": [
       "   Cycling Activity (Y/N)  Minimum temperature (°C)  \\\n",
       "0                       1                      10.8   \n",
       "1                       0                      10.0   \n",
       "2                       0                       9.9   \n",
       "3                       0                      10.5   \n",
       "4                       0                      10.9   \n",
       "\n",
       "   4DAvg Difference (Min Temp)  Maximum temperature (°C)  \\\n",
       "0                         1.85                      14.7   \n",
       "1                        0.775                      15.2   \n",
       "2                        0.575                      15.5   \n",
       "3                         0.75                      14.9   \n",
       "4                          0.6                      16.9   \n",
       "\n",
       "   4DAvg Difference (Max Temp)  Rainfall (mm)  4DAvg Difference (Rainfall)  \\\n",
       "0                          1.1            2.4                         2.05   \n",
       "1                          1.3            0.0                        -0.85   \n",
       "2                          1.0            1.0                          0.3   \n",
       "3                         0.15            1.2                         0.35   \n",
       "4                        1.825            0.2                        -0.95   \n",
       "\n",
       "   Sunshine (hours)  Speed of maximum wind gust (km/h)  Wind speed (km/h)  \\\n",
       "0               3.1                               31.0               13.0   \n",
       "1               7.3                               50.0               19.5   \n",
       "2               6.8                               39.0               14.0   \n",
       "3               6.8                               52.0               20.5   \n",
       "4               3.5                               39.0               10.0   \n",
       "\n",
       "   4DAvg Difference (Wind Speed)  Weekday_Friday  Weekday_Monday  \\\n",
       "0                          3.875             0.0             0.0   \n",
       "1                          9.625             0.0             0.0   \n",
       "2                          1.125             1.0             0.0   \n",
       "3                          6.625             0.0             0.0   \n",
       "4                         -6.750             0.0             0.0   \n",
       "\n",
       "   Weekday_Saturday  Weekday_Sunday  Weekday_Thursday  Weekday_Tuesday  \\\n",
       "0               0.0             0.0               0.0              0.0   \n",
       "1               0.0             0.0               1.0              0.0   \n",
       "2               0.0             0.0               0.0              0.0   \n",
       "3               1.0             0.0               0.0              0.0   \n",
       "4               0.0             1.0               0.0              0.0   \n",
       "\n",
       "   Weekday_Wednesday  \n",
       "0                1.0  \n",
       "1                0.0  \n",
       "2                0.0  \n",
       "3                0.0  \n",
       "4                0.0  "
      ]
     },
     "execution_count": 27,
     "metadata": {},
     "output_type": "execute_result"
    }
   ],
   "source": [
    "# move binary cycling activity indicator column to start of dataframe for clarity\n",
    "combineddf.insert(0, 'Cycling Activity (Y/N)', combineddf.pop('Cycling Activity (Y/N)'))\n",
    "combineddf.head()"
   ]
  },
  {
   "cell_type": "code",
   "execution_count": 28,
   "id": "7e6651f1",
   "metadata": {},
   "outputs": [],
   "source": [
    "# assign features and target\n",
    "X = pd.concat([combineddf.iloc[:, 1:18]], axis=1)\n",
    "y = combineddf['Cycling Activity (Y/N)']"
   ]
  },
  {
   "cell_type": "code",
   "execution_count": 29,
   "id": "cb37830c",
   "metadata": {},
   "outputs": [],
   "source": [
    "# split data into training and testing with stratified sampling to preserve classification weightings\n",
    "X_train, X_test, y_train, y_test = train_test_split(X, y, test_size=0.2, stratify=y, random_state=12)"
   ]
  },
  {
   "cell_type": "code",
   "execution_count": 30,
   "id": "34d26f9b",
   "metadata": {},
   "outputs": [],
   "source": [
    "# standardise data to avoid convergence warning\n",
    "scaler = StandardScaler()\n",
    "X_train = scaler.fit_transform(X_train)\n",
    "X_test = scaler.transform(X_test)"
   ]
  },
  {
   "cell_type": "code",
   "execution_count": 31,
   "id": "de55141b",
   "metadata": {},
   "outputs": [],
   "source": [
    "# initialise and train regression model\n",
    "model = LogisticRegression()\n",
    "model.fit(X_train, y_train)\n",
    "\n",
    "# make predictions\n",
    "y_pred = model.predict(X_test)"
   ]
  },
  {
   "cell_type": "code",
   "execution_count": 32,
   "id": "7953e69d",
   "metadata": {
    "scrolled": false
   },
   "outputs": [
    {
     "name": "stdout",
     "output_type": "stream",
     "text": [
      "Accuracy: 0.7529411764705882\n",
      "Confusion Matrix:\n",
      "[[62  3]\n",
      " [18  2]]\n",
      "Classification Report:\n",
      "              precision    recall  f1-score   support\n",
      "\n",
      "           0       0.78      0.95      0.86        65\n",
      "           1       0.40      0.10      0.16        20\n",
      "\n",
      "    accuracy                           0.75        85\n",
      "   macro avg       0.59      0.53      0.51        85\n",
      "weighted avg       0.69      0.75      0.69        85\n",
      "\n"
     ]
    }
   ],
   "source": [
    "# evaluate model\n",
    "accuracy = accuracy_score(y_test, y_pred)\n",
    "print(f'Accuracy: {accuracy}')\n",
    "\n",
    "# Confusion matrix\n",
    "cm = confusion_matrix(y_test, y_pred)\n",
    "print('Confusion Matrix:')\n",
    "print(cm)\n",
    "\n",
    "# Classification report\n",
    "report = classification_report(y_test, y_pred)\n",
    "print('Classification Report:')\n",
    "print(report)"
   ]
  },
  {
   "cell_type": "markdown",
   "id": "246b33b3",
   "metadata": {},
   "source": [
    "On face value, this model is 75% accurate in predicting whether I would go cycling on a particular day. However the results show that it is much better at predicting when I won't go cycling than when I will, correctly predicting 62 of the 65 days that I didn't go cycling but incorrectly predicting that I wouldn't go cycling on 18 days that I did. An f1 score of 0.16 confirms the model's difficulty in predicting days when I would go riding and is likely due to the class imbalance in the dataset.\n",
    "\n",
    "Of course there are many more factors that go into whether I go riding than just the weather including work deadlines, injuries, holidays, assignments and illness. Using my calendar I will remove dates where I know there were other reasons that caused me not to go riding and will run the model again."
   ]
  },
  {
   "cell_type": "code",
   "execution_count": 33,
   "id": "794d91d4",
   "metadata": {},
   "outputs": [],
   "source": [
    "# re-add Date column\n",
    "combineddf.insert(0, 'Date', pd.date_range(start='2023-07-05', periods=len(combineddf), freq='D'))"
   ]
  },
  {
   "cell_type": "code",
   "execution_count": 34,
   "id": "1ba50e25",
   "metadata": {},
   "outputs": [],
   "source": [
    "# dates to remove\n",
    "remove_dates = ['2023-07-09', '2023-07-14', '2023-07-15', '2023-07-16', '2023-07-17', '2023-07-28', \n",
    "                     '2023-07-29', '2023-07-30', '2023-08-26', '2023-09-04', '2023-09-05', '2023-09-06', \n",
    "                    '2023-09-07', '2023-09-08', '2023-09-09', '2023-09-10', '2023-09-16', '2023-09-17', \n",
    "                    '2023-10-03', '2023-10-04', '2023-10-05', '2023-10-06', '2023-10-07', '2023-10-08', \n",
    "                    '2023-10-16', '2023-10-17', '2023-10-18', '2023-10-19', '2023-10-20', '2023-10-21', \n",
    "                    '2023-10-22', '2023-10-23', '2023-10-24', '2023-10-25', '2023-10-26', '2023-10-27', \n",
    "                    '2023-11-06', '2023-11-07', '2023-11-18', '2023-11-19', '2023-12-25', '2023-12-26', \n",
    "                    '2023-12-27', '2023-12-28', '2023-12-29', '2023-12-30', '2023-12-31', '2024-01-01', \n",
    "                     '2024-01-02', '2024-01-03', '2024-01-04', '2024-01-05', '2024-01-06', '2024-01-07', \n",
    "                     '2024-01-08', '2024-01-09', '2024-01-10', '2024-01-11', '2024-01-12', '2024-01-19', \n",
    "                     '2024-01-20', '2024-01-21', '2024-02-12', '2024-02-13', '2024-02-14', '2024-02-15', \n",
    "                     '2024-02-16', '2024-02-17', '2024-02-18', '2024-03-09', '2024-03-10', '2024-03-11', \n",
    "                     '2024-03-19', '2024-03-20', '2024-03-21', '2024-03-22', '2024-03-23', '2024-03-27', \n",
    "                    '2024-03-28', '2024-03-29', '2024-03-30', '2024-03-31', '2024-04-17', '2024-04-18', \n",
    "                     '2024-04-19', '2024-04-20', '2024-04-21', '2024-05-20', '2024-05-21', '2024-05-22', \n",
    "                    '2024-05-23', '2024-05-24', '2024-05-25', '2024-05-26', '2024-05-27', '2024-05-28', \n",
    "                    '2024-05-29', '2024-05-30', '2024-05-31', '2024-06-01', '2024-06-02', '2024-06-03', \n",
    "                     '2024-06-04', '2024-06-05', '2024-06-06', '2024-06-07', '2024-06-08', '2024-06-09', \n",
    "                     '2024-06-10', '2024-06-11', '2024-06-12', '2024-06-13', '2024-06-14', '2024-06-15', \n",
    "                     '2024-07-16', '2024-07-17', '2024-07-18', '2024-07-19', '2024-08-04', '2024-08-05', \n",
    "                     '2024-08-06']\n",
    "\n",
    "# convert to datetime\n",
    "remove_dates = pd.to_datetime(remove_dates)\n",
    "\n",
    "# remove dates\n",
    "combineddf = combineddf[~combineddf['Date'].isin(remove_dates)]\n",
    "# drop Date column\n",
    "combineddf = combineddf.drop(columns=['Date'])\n",
    "combineddf = combineddf.reset_index(drop=True)"
   ]
  },
  {
   "cell_type": "markdown",
   "id": "69cfd9b5",
   "metadata": {},
   "source": [
    "Train and test the linear regression model on the refined dataset"
   ]
  },
  {
   "cell_type": "code",
   "execution_count": 35,
   "id": "b996a98d",
   "metadata": {},
   "outputs": [],
   "source": [
    "# train regression model\n",
    "# assign features and target\n",
    "X = pd.concat([combineddf.iloc[:, 1:18]], axis=1)\n",
    "y = combineddf['Cycling Activity (Y/N)']\n",
    "# split data into training and testing with stratified sampling to preserve classification weightings\n",
    "X_train, X_test, y_train, y_test = train_test_split(X, y, test_size=0.2, stratify=y, random_state=12)\n",
    "# standardise data to avoid convergence warning\n",
    "scaler = StandardScaler()\n",
    "X_train = scaler.fit_transform(X_train)\n",
    "X_test = scaler.transform(X_test)\n",
    "# initialise and train regression model\n",
    "model = LogisticRegression()\n",
    "model.fit(X_train, y_train)\n",
    "\n",
    "# make predictions\n",
    "y_pred = model.predict(X_test)"
   ]
  },
  {
   "cell_type": "code",
   "execution_count": 36,
   "id": "821d2bf4",
   "metadata": {
    "scrolled": true
   },
   "outputs": [
    {
     "name": "stdout",
     "output_type": "stream",
     "text": [
      "Accuracy: 0.6666666666666666\n",
      "Confusion Matrix:\n",
      "[[36  5]\n",
      " [15  4]]\n",
      "Classification Report:\n",
      "              precision    recall  f1-score   support\n",
      "\n",
      "           0       0.71      0.88      0.78        41\n",
      "           1       0.44      0.21      0.29        19\n",
      "\n",
      "    accuracy                           0.67        60\n",
      "   macro avg       0.58      0.54      0.53        60\n",
      "weighted avg       0.62      0.67      0.63        60\n",
      "\n"
     ]
    }
   ],
   "source": [
    "# evaluate model\n",
    "accuracy = accuracy_score(y_test, y_pred)\n",
    "print(f'Accuracy: {accuracy}')\n",
    "\n",
    "# Confusion matrix\n",
    "cm = confusion_matrix(y_test, y_pred)\n",
    "print('Confusion Matrix:')\n",
    "print(cm)\n",
    "\n",
    "# Classification report\n",
    "report = classification_report(y_test, y_pred)\n",
    "print('Classification Report:')\n",
    "print(report)"
   ]
  },
  {
   "cell_type": "markdown",
   "id": "1a390df3",
   "metadata": {},
   "source": [
    "Model accuracy appears to have slightly dropped but the results have actually improved in terms of predicting when I will go cycling. It is still biased towards predicting days that I won't go riding but this indicates that balancing the classes would continue to improve accuracy.\n",
    "\n",
    "I will now assess the performance of the RandomForestClassifier and XGBoost algorithms before developing the final model."
   ]
  },
  {
   "cell_type": "markdown",
   "id": "d037db9b",
   "metadata": {},
   "source": [
    "#### Random Forest Classifier"
   ]
  },
  {
   "cell_type": "code",
   "execution_count": 37,
   "id": "e781ceae",
   "metadata": {},
   "outputs": [],
   "source": [
    "# Split the data into training and testing sets\n",
    "X_train, X_test, y_train, y_test = train_test_split(X, y, test_size=0.2, stratify=y, random_state=12)\n",
    "\n",
    "# Initialize the RandomForest model\n",
    "randomforest_model = RandomForestClassifier(n_estimators=100, random_state=42)\n",
    "\n",
    "# Train the model\n",
    "randomforest_model.fit(X_train, y_train)\n",
    "\n",
    "# Predict on the test data\n",
    "y_pred = randomforest_model.predict(X_test)"
   ]
  },
  {
   "cell_type": "code",
   "execution_count": 38,
   "id": "2eac8660",
   "metadata": {
    "scrolled": true
   },
   "outputs": [
    {
     "name": "stdout",
     "output_type": "stream",
     "text": [
      "Accuracy: 0.6666666666666666\n",
      "Confusion Matrix:\n",
      "[[37  4]\n",
      " [16  3]]\n",
      "Classification Report:\n",
      "              precision    recall  f1-score   support\n",
      "\n",
      "           0       0.70      0.90      0.79        41\n",
      "           1       0.43      0.16      0.23        19\n",
      "\n",
      "    accuracy                           0.67        60\n",
      "   macro avg       0.56      0.53      0.51        60\n",
      "weighted avg       0.61      0.67      0.61        60\n",
      "\n"
     ]
    }
   ],
   "source": [
    "# evaluate model\n",
    "accuracy = accuracy_score(y_test, y_pred)\n",
    "print(f'Accuracy: {accuracy}')\n",
    "\n",
    "# Confusion matrix\n",
    "cm = confusion_matrix(y_test, y_pred)\n",
    "print('Confusion Matrix:')\n",
    "print(cm)\n",
    "\n",
    "# Classification report\n",
    "report = classification_report(y_test, y_pred)\n",
    "print('Classification Report:')\n",
    "print(report)"
   ]
  },
  {
   "cell_type": "markdown",
   "id": "bf0c70bf",
   "metadata": {},
   "source": [
    "#### XGBoost"
   ]
  },
  {
   "cell_type": "code",
   "execution_count": 39,
   "id": "883e207f",
   "metadata": {},
   "outputs": [],
   "source": [
    "# Split the data into training and testing sets\n",
    "X_train, X_test, y_train, y_test = train_test_split(X, y, test_size=0.2, random_state=12)\n",
    "\n",
    "# Initialize the XGBoost model\n",
    "xgboost_model = XGBClassifier(n_estimators=100, random_state=42)\n",
    "\n",
    "# Train the model\n",
    "xgboost_model.fit(X_train, y_train)\n",
    "\n",
    "# Predict on the test data\n",
    "y_pred = xgboost_model.predict(X_test)"
   ]
  },
  {
   "cell_type": "code",
   "execution_count": 40,
   "id": "18b0322f",
   "metadata": {
    "scrolled": true
   },
   "outputs": [
    {
     "name": "stdout",
     "output_type": "stream",
     "text": [
      "Accuracy: 0.6166666666666667\n",
      "Confusion Matrix:\n",
      "[[29  5]\n",
      " [18  8]]\n",
      "Classification Report:\n",
      "              precision    recall  f1-score   support\n",
      "\n",
      "           0       0.62      0.85      0.72        34\n",
      "           1       0.62      0.31      0.41        26\n",
      "\n",
      "    accuracy                           0.62        60\n",
      "   macro avg       0.62      0.58      0.56        60\n",
      "weighted avg       0.62      0.62      0.58        60\n",
      "\n"
     ]
    }
   ],
   "source": [
    "# evaluate model\n",
    "accuracy = accuracy_score(y_test, y_pred)\n",
    "print(f'Accuracy: {accuracy}')\n",
    "\n",
    "# Confusion matrix\n",
    "cm = confusion_matrix(y_test, y_pred)\n",
    "print('Confusion Matrix:')\n",
    "print(cm)\n",
    "\n",
    "# Classification report\n",
    "report = classification_report(y_test, y_pred)\n",
    "print('Classification Report:')\n",
    "print(report)"
   ]
  },
  {
   "cell_type": "markdown",
   "id": "ebb617b0",
   "metadata": {},
   "source": [
    "Since my main interest is in predicting the days that I will go cycling, the XGBoost model is our preferred algorithm due to its high precision and recall for class 1.\n",
    "\n",
    "#### Hyperparameter Tuning\n",
    "Moving ahead with the XGBoost algorithm, I will tune the hyperparameters before defining and testing the final model. Due to computational limitations, I am only conducting a small number of cross validation folds. This will assist me in finding the optimal parameters for my model."
   ]
  },
  {
   "cell_type": "code",
   "execution_count": 41,
   "id": "a548573a",
   "metadata": {},
   "outputs": [
    {
     "name": "stdout",
     "output_type": "stream",
     "text": [
      "Fitting 2 folds for each of 4374 candidates, totalling 8748 fits\n",
      "Best Parameters: {'colsample_bytree': 0.8, 'gamma': 0, 'learning_rate': 0.3, 'max_depth': 3, 'n_estimators': 50, 'reg_alpha': 0.1, 'reg_lambda': 0.01, 'subsample': 1.0}\n"
     ]
    }
   ],
   "source": [
    "# Set up parameter grid for tuning\n",
    "param_grid = {\n",
    "    'n_estimators': [50, 100, 150],\n",
    "    'learning_rate': [0.1, 0.2, 0.3],\n",
    "    'max_depth': [3, 4, 5],\n",
    "    'subsample': [0.8, 0.9, 1.0],\n",
    "    'colsample_bytree': [0.8, 0.9, 1.0],\n",
    "    'gamma': [0, 1],\n",
    "    'reg_alpha': [0.01, 0.1, 1],\n",
    "    'reg_lambda': [0.01, 0.1, 1]\n",
    "}\n",
    "\n",
    "# Initialize the XGBClassifier\n",
    "xgboost_model = XGBClassifier(random_state=42)\n",
    "\n",
    "# Set up the GridSearchCV\n",
    "grid_search = GridSearchCV(xgboost_model, param_grid, cv=2, scoring='accuracy', verbose=1)\n",
    "\n",
    "# Fit the model to find the best hyperparameters\n",
    "grid_search.fit(X_train, y_train)\n",
    "\n",
    "# Output the best parameters\n",
    "print(f\"Best Parameters: {grid_search.best_params_}\")\n",
    "\n",
    "# Use the best estimator for predictions\n",
    "best_xgboost_model = grid_search.best_estimator_\n",
    "y_pred_best = best_xgboost_model.predict(X_test)"
   ]
  },
  {
   "cell_type": "markdown",
   "id": "bf99a7b3",
   "metadata": {},
   "source": [
    "### Results\n",
    "\n",
    "Through trialling a number of models we've found that the XGBoostClassifier works best for our dataset. After tuning the model's hyperparameters, I receive the following results:"
   ]
  },
  {
   "cell_type": "code",
   "execution_count": 42,
   "id": "2919ca94",
   "metadata": {
    "scrolled": true
   },
   "outputs": [
    {
     "name": "stdout",
     "output_type": "stream",
     "text": [
      "Accuracy: 0.65\n",
      "Confusion Matrix:\n",
      "[[31  3]\n",
      " [18  8]]\n",
      "Classification Report:\n",
      "              precision    recall  f1-score   support\n",
      "\n",
      "           0       0.63      0.91      0.75        34\n",
      "           1       0.73      0.31      0.43        26\n",
      "\n",
      "    accuracy                           0.65        60\n",
      "   macro avg       0.68      0.61      0.59        60\n",
      "weighted avg       0.67      0.65      0.61        60\n",
      "\n"
     ]
    }
   ],
   "source": [
    "# Evaluate the model as before\n",
    "accuracy = accuracy_score(y_test, best_xgboost_model.predict(X_test))\n",
    "print(f'Accuracy: {accuracy}')\n",
    "cm = confusion_matrix(y_test, best_xgboost_model.predict(X_test))\n",
    "print('Confusion Matrix:')\n",
    "print(cm)\n",
    "report = classification_report(y_test, best_xgboost_model.predict(X_test))\n",
    "print('Classification Report:')\n",
    "print(report)"
   ]
  },
  {
   "cell_type": "markdown",
   "id": "468a4fd9",
   "metadata": {},
   "source": [
    "In comparison to the original XGBoost model, this tuned version has a higher accuracy, precision and f1 score and an identical recall for days when I went cycling. Having said this, trialing a larger set of hyperparameters would assist in increasing it's abilities further.\n",
    "\n",
    "Below, I load the weather forecast for August 26 to September 1, a warmer week in Melbourne, but one with high winds and some rain. The model has been configured to display its output as a % probability of me going riding on that day."
   ]
  },
  {
   "cell_type": "code",
   "execution_count": 43,
   "id": "01e08cc6",
   "metadata": {},
   "outputs": [
    {
     "name": "stdout",
     "output_type": "stream",
     "text": [
      "Probability of going cycling on Monday: 72.62%\n",
      "\n",
      "Probability of going cycling on Tuesday: 0.54%\n",
      "\n",
      "Probability of going cycling on Wednesday: 17.41%\n",
      "\n",
      "Probability of going cycling on Thursday: 20.37%\n",
      "\n",
      "Probability of going cycling on Friday: 2.56%\n",
      "\n",
      "Probability of going cycling on Saturday: 10.72%\n",
      "\n",
      "Probability of going cycling on Sunday: 14.00%\n",
      "\n"
     ]
    }
   ],
   "source": [
    "# load new forecast\n",
    "unseen_forecast = pd.read_csv('26Aug1Sep.csv')\n",
    "\n",
    "# Predict the probability of going cycling based on the upcoming weather forecast\n",
    "unseen_probabilities = best_xgboost_model.predict_proba(unseen_forecast)[:, 1]\n",
    "\n",
    "# Convert to percentages\n",
    "percentages = unseen_probabilities * 100\n",
    "\n",
    "weekdays = ['Monday', 'Tuesday', 'Wednesday', 'Thursday', 'Friday', 'Saturday', 'Sunday']\n",
    "\n",
    "for i in range(len(unseen_forecast)):\n",
    "    weekday = weekdays[i % 7]  # Use modulo to loop through the weekdays\n",
    "    print(f'Probability of going cycling on {weekday}: {percentages[i]:.2f}%\\n')"
   ]
  }
 ],
 "metadata": {
  "kernelspec": {
   "display_name": "Python 3 (ipykernel)",
   "language": "python",
   "name": "python3"
  },
  "language_info": {
   "codemirror_mode": {
    "name": "ipython",
    "version": 3
   },
   "file_extension": ".py",
   "mimetype": "text/x-python",
   "name": "python",
   "nbconvert_exporter": "python",
   "pygments_lexer": "ipython3",
   "version": "3.9.12"
  }
 },
 "nbformat": 4,
 "nbformat_minor": 5
}
