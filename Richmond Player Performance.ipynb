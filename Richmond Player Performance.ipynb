{
 "cells": [
  {
   "cell_type": "markdown",
   "id": "82b25175",
   "metadata": {},
   "source": [
    "### Aim\n",
    "AFL is a uniquely Australian sport that forms a significant part of the Victorian identity. Founded in 1885, the Richmond Football Club is one of the longest running football clubs in Australia. Entering the Victorian Football League in 1908, the team has had a total of 1193 players play for the club to date. In this analysis, I will be using data retrieved from [afltables.com](https://afltables.com/afl/stats/teams/richmond.html) to assess the performance of past and present players in the Richmond Football Club to ultimately identify our greatest player of all time.\n",
    "\n",
    "\n",
    "### Data Exploration and Preparation\n",
    "#### Load libraries"
   ]
  },
  {
   "cell_type": "code",
   "execution_count": 63,
   "id": "844c71f9",
   "metadata": {},
   "outputs": [],
   "source": [
    "#load libraries\n",
    "library(tidyverse)\n",
    "library(naniar)\n",
    "library(shiny)\n",
    "library(plotly)"
   ]
  },
  {
   "cell_type": "markdown",
   "id": "b190975c",
   "metadata": {},
   "source": [
    "#### Read in data"
   ]
  },
  {
   "cell_type": "code",
   "execution_count": 64,
   "id": "dc18dec2",
   "metadata": {},
   "outputs": [
    {
     "data": {
      "text/html": [
       "<table class=\"dataframe\">\n",
       "<caption>A data.frame: 6 × 24</caption>\n",
       "<thead>\n",
       "\t<tr><th></th><th scope=col>Player</th><th scope=col>GM</th><th scope=col>KI</th><th scope=col>MK</th><th scope=col>HB</th><th scope=col>DI</th><th scope=col>GL</th><th scope=col>BH</th><th scope=col>HO</th><th scope=col>TK</th><th scope=col>⋯</th><th scope=col>FF</th><th scope=col>FA</th><th scope=col>BR</th><th scope=col>CP</th><th scope=col>UP</th><th scope=col>CM</th><th scope=col>MI</th><th scope=col>X1.</th><th scope=col>BO</th><th scope=col>GA</th></tr>\n",
       "\t<tr><th></th><th scope=col>&lt;chr&gt;</th><th scope=col>&lt;int&gt;</th><th scope=col>&lt;int&gt;</th><th scope=col>&lt;int&gt;</th><th scope=col>&lt;int&gt;</th><th scope=col>&lt;int&gt;</th><th scope=col>&lt;int&gt;</th><th scope=col>&lt;int&gt;</th><th scope=col>&lt;int&gt;</th><th scope=col>&lt;int&gt;</th><th scope=col>⋯</th><th scope=col>&lt;int&gt;</th><th scope=col>&lt;int&gt;</th><th scope=col>&lt;int&gt;</th><th scope=col>&lt;int&gt;</th><th scope=col>&lt;int&gt;</th><th scope=col>&lt;int&gt;</th><th scope=col>&lt;int&gt;</th><th scope=col>&lt;int&gt;</th><th scope=col>&lt;int&gt;</th><th scope=col>&lt;int&gt;</th></tr>\n",
       "</thead>\n",
       "<tbody>\n",
       "\t<tr><th scope=row>1</th><td>Bartlett, Kevin</td><td>403</td><td>8293</td><td>1086</td><td> 858</td><td>9151</td><td>778</td><td>781</td><td> 27</td><td>  NA</td><td>⋯</td><td>931</td><td>856</td><td>160</td><td>  NA</td><td>  NA</td><td> NA</td><td>  NA</td><td> NA</td><td> NA</td><td> NA</td></tr>\n",
       "\t<tr><th scope=row>2</th><td>Riewoldt, Jack </td><td>347</td><td>3085</td><td>1833</td><td>1023</td><td>4108</td><td>787</td><td>480</td><td>106</td><td> 741</td><td>⋯</td><td>321</td><td>335</td><td> 62</td><td>2004</td><td>2089</td><td>545</td><td>1038</td><td>582</td><td> 29</td><td>249</td></tr>\n",
       "\t<tr><th scope=row>3</th><td>Cotchin, Trent </td><td>306</td><td>4019</td><td> 993</td><td>2877</td><td>6896</td><td>141</td><td>123</td><td> 48</td><td>1132</td><td>⋯</td><td>463</td><td>306</td><td>148</td><td>3262</td><td>3575</td><td> 74</td><td> 104</td><td>402</td><td>112</td><td>163</td></tr>\n",
       "\t<tr><th scope=row>4</th><td>Edwards, Shane </td><td>303</td><td>2451</td><td> 789</td><td>2693</td><td>5144</td><td>189</td><td>154</td><td> 15</td><td> 838</td><td>⋯</td><td>195</td><td>250</td><td> 17</td><td>2306</td><td>2805</td><td> 78</td><td> 144</td><td>402</td><td>133</td><td>211</td></tr>\n",
       "\t<tr><th scope=row>5</th><td>Martin, Dustin </td><td>301</td><td>4556</td><td>1167</td><td>2748</td><td>7304</td><td>338</td><td>230</td><td> 18</td><td> 835</td><td>⋯</td><td>245</td><td>401</td><td>212</td><td>2935</td><td>4333</td><td>172</td><td> 219</td><td>335</td><td>251</td><td>221</td></tr>\n",
       "\t<tr><th scope=row>6</th><td>Bourke, Francis</td><td>300</td><td>4163</td><td>1054</td><td>1288</td><td>5451</td><td> 71</td><td> 57</td><td> 34</td><td>  NA</td><td>⋯</td><td>715</td><td>696</td><td>139</td><td>  NA</td><td>  NA</td><td> NA</td><td>  NA</td><td> NA</td><td> NA</td><td> NA</td></tr>\n",
       "</tbody>\n",
       "</table>\n"
      ],
      "text/latex": [
       "A data.frame: 6 × 24\n",
       "\\begin{tabular}{r|lllllllllllllllllllll}\n",
       "  & Player & GM & KI & MK & HB & DI & GL & BH & HO & TK & ⋯ & FF & FA & BR & CP & UP & CM & MI & X1. & BO & GA\\\\\n",
       "  & <chr> & <int> & <int> & <int> & <int> & <int> & <int> & <int> & <int> & <int> & ⋯ & <int> & <int> & <int> & <int> & <int> & <int> & <int> & <int> & <int> & <int>\\\\\n",
       "\\hline\n",
       "\t1 & Bartlett, Kevin & 403 & 8293 & 1086 &  858 & 9151 & 778 & 781 &  27 &   NA & ⋯ & 931 & 856 & 160 &   NA &   NA &  NA &   NA &  NA &  NA &  NA\\\\\n",
       "\t2 & Riewoldt, Jack  & 347 & 3085 & 1833 & 1023 & 4108 & 787 & 480 & 106 &  741 & ⋯ & 321 & 335 &  62 & 2004 & 2089 & 545 & 1038 & 582 &  29 & 249\\\\\n",
       "\t3 & Cotchin, Trent  & 306 & 4019 &  993 & 2877 & 6896 & 141 & 123 &  48 & 1132 & ⋯ & 463 & 306 & 148 & 3262 & 3575 &  74 &  104 & 402 & 112 & 163\\\\\n",
       "\t4 & Edwards, Shane  & 303 & 2451 &  789 & 2693 & 5144 & 189 & 154 &  15 &  838 & ⋯ & 195 & 250 &  17 & 2306 & 2805 &  78 &  144 & 402 & 133 & 211\\\\\n",
       "\t5 & Martin, Dustin  & 301 & 4556 & 1167 & 2748 & 7304 & 338 & 230 &  18 &  835 & ⋯ & 245 & 401 & 212 & 2935 & 4333 & 172 &  219 & 335 & 251 & 221\\\\\n",
       "\t6 & Bourke, Francis & 300 & 4163 & 1054 & 1288 & 5451 &  71 &  57 &  34 &   NA & ⋯ & 715 & 696 & 139 &   NA &   NA &  NA &   NA &  NA &  NA &  NA\\\\\n",
       "\\end{tabular}\n"
      ],
      "text/markdown": [
       "\n",
       "A data.frame: 6 × 24\n",
       "\n",
       "| <!--/--> | Player &lt;chr&gt; | GM &lt;int&gt; | KI &lt;int&gt; | MK &lt;int&gt; | HB &lt;int&gt; | DI &lt;int&gt; | GL &lt;int&gt; | BH &lt;int&gt; | HO &lt;int&gt; | TK &lt;int&gt; | ⋯ ⋯ | FF &lt;int&gt; | FA &lt;int&gt; | BR &lt;int&gt; | CP &lt;int&gt; | UP &lt;int&gt; | CM &lt;int&gt; | MI &lt;int&gt; | X1. &lt;int&gt; | BO &lt;int&gt; | GA &lt;int&gt; |\n",
       "|---|---|---|---|---|---|---|---|---|---|---|---|---|---|---|---|---|---|---|---|---|---|\n",
       "| 1 | Bartlett, Kevin | 403 | 8293 | 1086 |  858 | 9151 | 778 | 781 |  27 |   NA | ⋯ | 931 | 856 | 160 |   NA |   NA |  NA |   NA |  NA |  NA |  NA |\n",
       "| 2 | Riewoldt, Jack  | 347 | 3085 | 1833 | 1023 | 4108 | 787 | 480 | 106 |  741 | ⋯ | 321 | 335 |  62 | 2004 | 2089 | 545 | 1038 | 582 |  29 | 249 |\n",
       "| 3 | Cotchin, Trent  | 306 | 4019 |  993 | 2877 | 6896 | 141 | 123 |  48 | 1132 | ⋯ | 463 | 306 | 148 | 3262 | 3575 |  74 |  104 | 402 | 112 | 163 |\n",
       "| 4 | Edwards, Shane  | 303 | 2451 |  789 | 2693 | 5144 | 189 | 154 |  15 |  838 | ⋯ | 195 | 250 |  17 | 2306 | 2805 |  78 |  144 | 402 | 133 | 211 |\n",
       "| 5 | Martin, Dustin  | 301 | 4556 | 1167 | 2748 | 7304 | 338 | 230 |  18 |  835 | ⋯ | 245 | 401 | 212 | 2935 | 4333 | 172 |  219 | 335 | 251 | 221 |\n",
       "| 6 | Bourke, Francis | 300 | 4163 | 1054 | 1288 | 5451 |  71 |  57 |  34 |   NA | ⋯ | 715 | 696 | 139 |   NA |   NA |  NA |   NA |  NA |  NA |  NA |\n",
       "\n"
      ],
      "text/plain": [
       "  Player          GM  KI   MK   HB   DI   GL  BH  HO  TK   ⋯ FF  FA  BR  CP  \n",
       "1 Bartlett, Kevin 403 8293 1086  858 9151 778 781  27   NA ⋯ 931 856 160   NA\n",
       "2 Riewoldt, Jack  347 3085 1833 1023 4108 787 480 106  741 ⋯ 321 335  62 2004\n",
       "3 Cotchin, Trent  306 4019  993 2877 6896 141 123  48 1132 ⋯ 463 306 148 3262\n",
       "4 Edwards, Shane  303 2451  789 2693 5144 189 154  15  838 ⋯ 195 250  17 2306\n",
       "5 Martin, Dustin  301 4556 1167 2748 7304 338 230  18  835 ⋯ 245 401 212 2935\n",
       "6 Bourke, Francis 300 4163 1054 1288 5451  71  57  34   NA ⋯ 715 696 139   NA\n",
       "  UP   CM  MI   X1. BO  GA \n",
       "1   NA  NA   NA  NA  NA  NA\n",
       "2 2089 545 1038 582  29 249\n",
       "3 3575  74  104 402 112 163\n",
       "4 2805  78  144 402 133 211\n",
       "5 4333 172  219 335 251 221\n",
       "6   NA  NA   NA  NA  NA  NA"
      ]
     },
     "metadata": {},
     "output_type": "display_data"
    }
   ],
   "source": [
    "# Player performance data from 1965 to 2024\n",
    "player_stats <-read.csv(\"Player Stats 1965-2024.csv\")\n",
    "head(player_stats)"
   ]
  },
  {
   "cell_type": "markdown",
   "id": "ba221ed6",
   "metadata": {},
   "source": [
    "#### Data Wrangling"
   ]
  },
  {
   "cell_type": "code",
   "execution_count": 65,
   "id": "8ea4a949",
   "metadata": {},
   "outputs": [
    {
     "name": "stdout",
     "output_type": "stream",
     "text": [
      "Number of rows: 550 \n",
      "Number of columns: 24 \n",
      "\n",
      " Amount of missing data per column: \n",
      "Player     GM     KI     MK     HB     DI     GL     BH     HO     TK     RB \n",
      "     0      0      3     19     10      3    105     98    246    223    339 \n",
      "    IF     CL     CG     FF     FA     BR     CP     UP     CM     MI    X1. \n",
      "   324    337    323     27     22    308    329    329    350    358    336 \n",
      "    BO     GA \n",
      "   385    380 \n"
     ]
    }
   ],
   "source": [
    "# Initial exploration\n",
    "# View data dimensions\n",
    "cat(\"Number of rows:\", nrow(player_stats), \"\\n\")\n",
    "cat(\"Number of columns:\", ncol(player_stats), \"\\n\")\n",
    "\n",
    "#Is there missing data?\n",
    "cat(\"\\n\", \"Amount of missing data per column:\", \"\\n\")\n",
    "print(colSums(is.na(player_stats)))"
   ]
  },
  {
   "cell_type": "markdown",
   "id": "a31cd730",
   "metadata": {},
   "source": [
    "Our Player Stats dataset contains data for 550 players across 24 attributes. Some missing data is to be expected (e.g. a team's full back would rarely kick a goal), however certain columns have a lot more than is reasonable. When reviewing the data, we find that some attributes only started being recorded during the 1998 and 1999 AFL seasons. Therefore, we will need to split our data into 'core' attributes, recorded since 1965, and 'modern' attributes, recorded since 1998/1999.\n",
    "\n",
    "Additionally, some statistics are redundant and will be removed from our dataset. For example, while we care about the number of marks a player has taken, whether they were contested or uncontested is not. Similarly, the number of Brownlow votes a player accrues reflects the umpires' opinions which may not reflect pure performance.\n",
    "\n",
    "Before starting our analysis, we will also address any missing data by replacing null values with zeros. As we are searching for the best Richmond player of all time, players with less than 100 games will also be dropped. This hurdle has been set to align with the father-son rule, an established indicator of a player's high contribution to their club."
   ]
  },
  {
   "cell_type": "code",
   "execution_count": 66,
   "id": "158967bf",
   "metadata": {},
   "outputs": [],
   "source": [
    "# data cleaning\n",
    "\n",
    "# drop columns\n",
    "player_stats <- subset(player_stats, select = -c(HO, BR, CP, UP, CM, MI, BO, GA))\n",
    "# rename X1. column\n",
    "names(player_stats)[which(names(player_stats) == \"X1.\")] <- \"1P\"\n",
    "# replace NA with 0\n",
    "player_stats[is.na(player_stats)] <- 0\n",
    "# drop players with less than 100 games\n",
    "player_stats <- filter(player_stats, player_stats$GM >=100)"
   ]
  },
  {
   "cell_type": "markdown",
   "id": "67137960",
   "metadata": {},
   "source": [
    "I will create a new column 'ACC' that uses the goals and behinds data to calculate each player's accuracy."
   ]
  },
  {
   "cell_type": "code",
   "execution_count": 67,
   "id": "58a97ce1",
   "metadata": {},
   "outputs": [],
   "source": [
    "# create accuracy column\n",
    "player_stats <- mutate(player_stats, ACC = GL / (GL + BH))\n",
    "# move accuracy column next to GL column\n",
    "player_stats <- relocate(player_stats, ACC, .after=GL)\n",
    "# drop behinds column\n",
    "player_stats <- select(player_stats, \"Player\", \"GM\", \"KI\", \"MK\", \"HB\", \"DI\", \"GL\", \"ACC\", \"TK\", \"RB\", \"IF\", \"CL\", \"CG\", \"FF\", \"FA\", \"1P\")"
   ]
  },
  {
   "cell_type": "markdown",
   "id": "33be5893",
   "metadata": {},
   "source": [
    "While there is some subjectivity, free kicks are usually awarded to players for being first to the ball or for strong tackling and given for undisciplined play. In this analysis, a free kick differential and ratio will both be considered."
   ]
  },
  {
   "cell_type": "code",
   "execution_count": 68,
   "id": "d2ae207f",
   "metadata": {},
   "outputs": [],
   "source": [
    "# create differential column\n",
    "player_stats <- mutate(player_stats, FD = FF - FA)\n",
    "player_stats <- relocate(player_stats, FD, .after=FA)\n",
    "# create ratio column\n",
    "player_stats <- mutate(player_stats, FR = FF / FA)\n",
    "player_stats <- relocate(player_stats, FR, .after=FD)\n",
    "# drop frees for and against columns\n",
    "player_stats <- select(player_stats, \"Player\", \"GM\", \"KI\", \"MK\", \"HB\", \"DI\", \"GL\", \"ACC\", \"TK\", \"RB\", \"IF\", \"CL\", \"CG\", \"FD\", \"FR\", \"1P\")"
   ]
  },
  {
   "cell_type": "markdown",
   "id": "1d26d9e5",
   "metadata": {},
   "source": [
    "The Disposals attribute is a summation of the Kicks and Handballs columns and as such will not be used on its own. I will instead combine this metric with the Clangers attribute to assess each player's disposal efficiency."
   ]
  },
  {
   "cell_type": "code",
   "execution_count": 69,
   "id": "4cf0ce9c",
   "metadata": {},
   "outputs": [],
   "source": [
    "# create disposal efficiency column\n",
    "player_stats <- mutate(player_stats, DE = (DI - CG)/DI*100)\n",
    "player_stats <- relocate(player_stats, DE, .after=DI)\n",
    "player_stats$DE[player_stats$CG == 0] <- 0\n",
    "# drop disposals and clangers columns\n",
    "player_stats <- select(player_stats, \"Player\", \"GM\", \"KI\", \"MK\", \"HB\", \"DE\", \"GL\", \"ACC\", \"TK\", \"RB\", \"IF\", \"CL\", \"FD\", \"FR\", \"1P\")"
   ]
  },
  {
   "cell_type": "markdown",
   "id": "23eb5afc",
   "metadata": {},
   "source": [
    "When evaluating player performances, the use of total values alone will skew our findings in favour of those with a higher number of games played. While this is warranted with more games and higher stats being a strong indicator of a better player, I want to balance this by incorporating per game averages into the analysis. This additional dataset will not include the GM, DE, ACC and FD columns."
   ]
  },
  {
   "cell_type": "code",
   "execution_count": 70,
   "id": "1f8d7eb5",
   "metadata": {},
   "outputs": [],
   "source": [
    "# create per game dataframe\n",
    "player_stats_per_game <- player_stats\n",
    "player_stats_per_game[,3:15] <- player_stats_per_game[, 3:15] / player_stats_per_game$GM\n",
    "player_stats_per_game$FR <- player_stats_per_game$FR * player_stats_per_game$GM\n",
    "#drop GM, DE, ACC, FD columns\n",
    "player_stats_per_game <- select(player_stats_per_game, \"Player\", \"KI\", \"MK\", \"HB\", \"GL\", \"TK\", \"RB\", \"IF\", \"CL\", \"FR\", \"1P\")\n",
    "#drop FR column from totals\n",
    "player_stats_totals <- select(player_stats, \"Player\", \"GM\", \"KI\", \"MK\", \"HB\", \"DE\", \"GL\", \"ACC\", \"TK\", \"RB\", \"IF\", \"CL\", \"FD\", \"1P\")"
   ]
  },
  {
   "cell_type": "markdown",
   "id": "d503bd61",
   "metadata": {},
   "source": [
    "Now that the data has been cleaned and prepared, I can return to resolving the issue of additional statistics being included for players from the 1998 season onward. I will create two sets of tables, one featuring the core stats collected since 1965 and the other including the full range of metrics. The analysis will initially use the core statistics to compare players from across the years after which I will expand its scope to incorporate the additional performance attributes to see how they affect the rankings of the modern players."
   ]
  },
  {
   "cell_type": "code",
   "execution_count": 71,
   "id": "4ff5ca52",
   "metadata": {},
   "outputs": [],
   "source": [
    "# Extract core player stats into its own data set\n",
    "core_ps_totals <- select(player_stats_totals, Player, GM, KI, MK, HB, GL, ACC, FD)\n",
    "core_ps_per_game <- select(player_stats_per_game, Player, KI, MK, HB, GL, FR)"
   ]
  },
  {
   "cell_type": "markdown",
   "id": "3c30c1f3",
   "metadata": {},
   "source": [
    "A data dictionary is provided below:"
   ]
  },
  {
   "cell_type": "code",
   "execution_count": 72,
   "id": "945ab813",
   "metadata": {},
   "outputs": [
    {
     "name": "stdout",
     "output_type": "stream",
     "text": [
      " Column_Name         Description\n",
      "      Player         Player Name\n",
      "          GM               Games\n",
      "          KI               Kicks\n",
      "          MK               Marks\n",
      "          HB           Handballs\n",
      "          DE Disposal Efficiency\n",
      "          GL               Goals\n",
      "         ACC            Accuracy\n",
      "          TK             Tackles\n",
      "          RB         Rebound 50s\n",
      "          IF          Inside 50s\n",
      "          CL          Clearances\n",
      "          FD   Free Differential\n",
      "          FR          Free Ratio\n",
      "          1P        1 Percenters\n"
     ]
    }
   ],
   "source": [
    "Column_Name <- c(\"Player\", \"GM\", \"KI\", \"MK\", \"HB\", \"DE\", \"GL\", \"ACC\", \"TK\", \"RB\", \"IF\", \"CL\", \"FD\", \"FR\", \"1P\")\n",
    "Description <- c(\"Player Name\", \"Games\", \"Kicks\", \"Marks\", \"Handballs\", \"Disposal Efficiency\", \"Goals\", \"Accuracy\", \"Tackles\", \"Rebound 50s\", \"Inside 50s\", \"Clearances\", \"Free Differential\", \"Free Ratio\", \"1 Percenters\")\n",
    "dict <- data.frame(Column_Name, Description)\n",
    "print.data.frame(dict, row.names = FALSE, max = NULL)"
   ]
  },
  {
   "cell_type": "markdown",
   "id": "16e3130d",
   "metadata": {},
   "source": [
    "### Player Analysis\n",
    "\n",
    "This analysis will be conducted by ranking players according to their performance in each attribute and then summing these values to calculate a final 'performance score'. As shown below with the 'Games' statistic as an example, each attribute has a positively skewed distribution."
   ]
  },
  {
   "cell_type": "code",
   "execution_count": 73,
   "id": "e9e88b1f",
   "metadata": {},
   "outputs": [
    {
     "data": {
      "image/png": "[encoded data removed]",
      "text/plain": [
       "plot without title"
      ]
     },
     "metadata": {
      "image/png": {
       "height": 420,
       "width": 420
      }
     },
     "output_type": "display_data"
    }
   ],
   "source": [
    "# Density plot\n",
    "ggplot(core_ps_totals, aes(x = GM)) +\n",
    "  geom_density(fill = \"skyblue\", color = \"black\") +\n",
    "  labs(title = \"Density Plot of Games Played\", x = \"Number of Games Played per Player\", y = \"Density\")"
   ]
  },
  {
   "cell_type": "markdown",
   "id": "39455f5a",
   "metadata": {},
   "source": [
    "In order to accurately compare players, the data will first be standardised by converting the raw values to z-scores and then normalised to fall across a 0-100 scale. These values will then be summed for each player to then find their final performance score. By using this method to rank and assign points to players, the difference in player performance has a greater impact as opposed to if we had done a straight point ranking of players (e.g. 10 points for best, 9 points for second best...). This will be completed for both the totals data and the per game data with these two results being combined according to their weighting, producing a final ranking of all players.\n",
    "\n",
    "Note that in an effort to maintain balance between playing positions, the Goals and Accuracy metrics will be awarded half points. Additionally, only players who have kicked more than the median number of goals can receive points for accuracy.\n",
    "\n",
    "\n",
    "#### Core Attributes\n",
    "\n",
    "Ranking player performance based on totals."
   ]
  },
  {
   "cell_type": "code",
   "execution_count": 74,
   "id": "bf782fa5",
   "metadata": {},
   "outputs": [],
   "source": [
    "# calculate z-scores for each stat\n",
    "stats <- c('GM', 'KI', 'MK', 'HB', 'GL', 'ACC', 'FD')\n",
    "for (stat in stats) {\n",
    "  z_col <- paste0(stat, \"_z\")\n",
    "  core_ps_totals[[z_col]] <- scale(core_ps_totals[[stat]])\n",
    "}\n",
    "\n",
    "# normalise z-scores on a 0-100 scale\n",
    "for (stat in stats) {\n",
    "  points_col <- paste0(stat, \"_points\")\n",
    "  z_col <- paste0(stat, \"_z\")\n",
    "  core_ps_totals[[points_col]] <- 50 + (core_ps_totals[[z_col]] * 10)\n",
    "}\n",
    "\n",
    "# Removing points from ACC where GL is lower than median\n",
    "core_ps_totals <- mutate(core_ps_totals, ACC_points = ifelse(GL < median(GL), 0, ACC_points))\n",
    "\n",
    "# GL and ACC columns are worth half points\n",
    "core_ps_totals$GL_points <- core_ps_totals$GL_points/2\n",
    "core_ps_totals$ACC_points <- core_ps_totals$ACC_points/2\n",
    "\n",
    "# sum the points for each player in a new 'summed_points' column\n",
    "points_cols <- paste0(stats, \"_points\")\n",
    "core_ps_totals$summed_totals <- rowSums(core_ps_totals[points_cols])"
   ]
  },
  {
   "cell_type": "markdown",
   "id": "bd3bd6a0",
   "metadata": {},
   "source": [
    "Ranking player performance based on per game averages"
   ]
  },
  {
   "cell_type": "code",
   "execution_count": 75,
   "id": "d5e05297",
   "metadata": {},
   "outputs": [],
   "source": [
    "# calculate z-scores for each stat\n",
    "stats <- c('KI', 'MK', 'HB', 'GL', 'FR')\n",
    "for (stat in stats) {\n",
    "  z_col <- paste0(stat, \"_z\")\n",
    "  core_ps_per_game[[z_col]] <- scale(core_ps_per_game[[stat]])\n",
    "}\n",
    "\n",
    "# normalise z-scores on a 0-100 scale\n",
    "for (stat in stats) {\n",
    "  points_col <- paste0(stat, \"_points\")\n",
    "  z_col <- paste0(stat, \"_z\")\n",
    "  core_ps_per_game[[points_col]] <- 50 + (core_ps_per_game[[z_col]] * 10)\n",
    "} \n",
    "\n",
    "# sum the points for each player in a new 'summed_points' column\n",
    "points_cols <- paste0(stats, \"_points\")\n",
    "core_ps_per_game$summed_averages <- rowSums(core_ps_per_game[points_cols])"
   ]
  },
  {
   "cell_type": "markdown",
   "id": "f052afcc",
   "metadata": {},
   "source": [
    "Calculate final player performance"
   ]
  },
  {
   "cell_type": "code",
   "execution_count": 76,
   "id": "ecf83004",
   "metadata": {},
   "outputs": [
    {
     "name": "stdout",
     "output_type": "stream",
     "text": [
      "Top 10 Players based on Core Statistics:\n",
      "1. Bartlett, Kevin\n",
      "2. Cotchin, Trent\n",
      "3. Campbell, Wayne\n",
      "4. Richardson, Matthew\n",
      "5. Deledio, Brett\n",
      "6. Riewoldt, Jack\n",
      "7. Weightman, Dale\n",
      "8. Bowden, Joel\n",
      "9. Martin, Dustin\n",
      "10. Sheedy, Kevin\n"
     ]
    }
   ],
   "source": [
    "# Calculate final rankings\n",
    "Ranking <- inner_join(select(core_ps_totals, Player, summed_totals),\n",
    "                       select(core_ps_per_game, Player, summed_averages),\n",
    "                       by = \"Player\")\n",
    "Ranking$final_ranking <- Ranking$summed_totals * 0.6 + Ranking$summed_averages * 0.4\n",
    "\n",
    "# Order the data\n",
    "Ranking <- Ranking[order(Ranking$final_ranking, decreasing = TRUE), ]\n",
    "\n",
    "# Create a numbered list\n",
    "cat(\"Top 10 Players based on Core Statistics:\\n\")\n",
    "for (i in 1:10) {\n",
    "  cat(i, \". \", Ranking$Player[i], \"\\n\", sep = \"\")\n",
    "}"
   ]
  },
  {
   "cell_type": "markdown",
   "id": "a5055b90",
   "metadata": {},
   "source": [
    "Our analysis of the core statistics finds Kevin Bartlett, legend of the Richmond Football Club, having claim to the top ranking. Playing for Richmond between 1965 and 1983, he played 403 games which aids him in scoring highly across all statistics when considering the raw totals in isolation. This isn't to diminish his achievements however, with Bartlett's number of kicks being almost double the next highest total. \n",
    "\n",
    "Focusing on per game averages, the top two are neck and neck with Brett Deledio having a more well rounded game, and Matthew Richardson performing strongly in average goals and marks.\n",
    "\n",
    "As the top ten list is comprised of seven players who ended their careers after 1998, I will re-run the analysis using the full data set to see how the additional records affect our findings. Obviously this will mean that players from different generations will no longer be able to be accurately compared to one another, but it will provide further insight into the performance of modern players.\n",
    "\n",
    "\n",
    "#### Expanded Attributes\n",
    "Using the full range of recorded metrics will provide us with a better picture of a player's performance, covering more aspects of the game. \n",
    "\n",
    "Ranking player performance based on totals."
   ]
  },
  {
   "cell_type": "code",
   "execution_count": 77,
   "id": "e03da5e0",
   "metadata": {},
   "outputs": [],
   "source": [
    "# calculate z-scores for each stat\n",
    "stats <- c(\"GM\", \"KI\", \"MK\", \"HB\", \"DE\", \"GL\", \"ACC\", \"TK\", \"RB\", \"IF\", \"CL\", \"FD\", \"1P\")\n",
    "for (stat in stats) {\n",
    "  z_col <- paste0(stat, \"_z\")\n",
    "  player_stats_totals[[z_col]] <- scale(player_stats_totals[[stat]])\n",
    "}\n",
    "\n",
    "# normalise z-scores on a 0-100 scale\n",
    "for (stat in stats) {\n",
    "  points_col <- paste0(stat, \"_points\")\n",
    "  z_col <- paste0(stat, \"_z\")\n",
    "  player_stats_totals[[points_col]] <- 50 + (player_stats_totals[[z_col]] * 10)\n",
    "}\n",
    "\n",
    "# Removing points from ACC where GL is lower than median\n",
    "gl_median <- median(player_stats_totals$GL, na.rm = TRUE)\n",
    "player_stats_totals$ACC_points <- ifelse(player_stats_totals$GL < gl_median, 0, player_stats_totals$ACC_points)\n",
    "\n",
    "# GL and ACC columns are worth half points\n",
    "player_stats_totals$GL_points <- player_stats_totals$GL_points/2\n",
    "player_stats_totals$ACC_points <- player_stats_totals$ACC_points/2\n",
    "\n",
    "# sum the points for each player in a new 'summed_points' column\n",
    "points_cols <- paste0(stats, \"_points\")\n",
    "player_stats_totals$summed_totals <- rowSums(player_stats_totals[points_cols])"
   ]
  },
  {
   "cell_type": "markdown",
   "id": "aef2f3a7",
   "metadata": {},
   "source": [
    "Ranking player performance based on per game averages"
   ]
  },
  {
   "cell_type": "code",
   "execution_count": 78,
   "id": "33ef362e",
   "metadata": {},
   "outputs": [],
   "source": [
    "# calculate z-scores for each stat\n",
    "stats <- c(\"KI\", \"MK\", \"HB\", \"GL\", \"TK\", \"RB\", \"IF\", \"CL\", \"FR\", \"1P\")\n",
    "for (stat in stats) {\n",
    "  z_col <- paste0(stat, \"_z\")\n",
    "  player_stats_per_game[[z_col]] <- scale(player_stats_per_game[[stat]])\n",
    "}\n",
    "\n",
    "# normalise z-scores on a 0-100 scale\n",
    "for (stat in stats) {\n",
    "  points_col <- paste0(stat, \"_points\")\n",
    "  z_col <- paste0(stat, \"_z\")\n",
    "  player_stats_per_game[[points_col]] <- 50 + (player_stats_per_game[[z_col]] * 10)\n",
    "} \n",
    "\n",
    "# sum the points for each player in a new 'summed_points' column\n",
    "points_cols <- paste0(stats, \"_points\")\n",
    "player_stats_per_game$summed_averages <- rowSums(player_stats_per_game[points_cols])"
   ]
  },
  {
   "cell_type": "markdown",
   "id": "436d8042",
   "metadata": {},
   "source": [
    "Calculate final player performance"
   ]
  },
  {
   "cell_type": "code",
   "execution_count": 79,
   "id": "bc2bf8f0",
   "metadata": {},
   "outputs": [
    {
     "name": "stdout",
     "output_type": "stream",
     "text": [
      "Top 10 Players based on Expanded Statistics:\n",
      "1. Cotchin, Trent\n",
      "2. Martin, Dustin\n",
      "3. Deledio, Brett\n",
      "4. Bowden, Joel\n",
      "5. Campbell, Wayne\n",
      "6. Riewoldt, Jack\n",
      "7. Edwards, Shane\n",
      "8. Houli, Bachar\n",
      "9. Newman, Chris\n",
      "10. Rance, Alex\n"
     ]
    }
   ],
   "source": [
    "Ranking <- inner_join(select(player_stats_totals, Player, summed_totals),\n",
    "                       select(player_stats_per_game, Player, summed_averages),\n",
    "                       by = \"Player\")\n",
    "totals_weight = 0.6\n",
    "averages_weight = 0.4\n",
    "Ranking$final_ranking <- Ranking$summed_totals * totals_weight + Ranking$summed_averages * averages_weight\n",
    "\n",
    "# Order the data\n",
    "Ranking <- Ranking[order(Ranking$final_ranking, decreasing = TRUE), ]\n",
    "\n",
    "# Create a numbered list\n",
    "cat(\"Top 10 Players based on Expanded Statistics:\\n\")\n",
    "for (i in 1:10) {\n",
    "  cat(i, \". \", Ranking$Player[i], \"\\n\", sep = \"\")\n",
    "}"
   ]
  },
  {
   "cell_type": "markdown",
   "id": "34bf72f1",
   "metadata": {},
   "source": [
    "Analysing the full set of data results in Trent Cotchin being named as the best modern Richmond player, with Inside 50s and Clearances providing the greatest contribution to his increased performance score from the new data. It should be recognised that between the two analyses, Wayne Campbell has dropped from third to fifth best. This is due to his career bridging the two data sets, starting in the 1991 season and ending in 2005. Therefore, the analysis of the core attributes provides a better reflection of his performance within the group.\n",
    "\n",
    "\n",
    "### Visualisation\n",
    "\n",
    "Finally these results have been visualised within an interactive Shiny app. This plot enables you to select the attributes that you feel are the most relevant to see how they affect the performance rankings. The bar chart will sort itself according to the attributes selected enabling you to view the core atributes, expanded attributes or a combination of the two.\n",
    "\n",
    "First create a combined dataset to be used for the visualisation"
   ]
  },
  {
   "cell_type": "code",
   "execution_count": 80,
   "id": "6f32fc6b",
   "metadata": {},
   "outputs": [],
   "source": [
    "# totals data\n",
    "# drop z-score columns\n",
    "merge_totals <- player_stats_totals %>% select(-matches(\"_z\"))\n",
    "# update column names for merger\n",
    "new_names <- gsub(\"_points$\", \"TP\", names(merge_totals))\n",
    "names(merge_totals) <- new_names\n",
    "# drop summed totals\n",
    "merge_totals <- merge_totals[, 1:(ncol(merge_totals) - 1)]\n",
    "\n",
    "# averages data\n",
    "# drop z-score columns\n",
    "merge_averages <- player_stats_per_game %>% select(-matches(\"_z\"))\n",
    "# update column names for merger\n",
    "new_names <- gsub(\"_points$\", \"AvgP\", names(merge_averages))\n",
    "names(merge_averages) <- new_names\n",
    "# drop summed averages\n",
    "merge_averages <- merge_averages[, 1:(ncol(merge_averages) - 1)]\n",
    "\n",
    "# merge datasets\n",
    "combined_ps <- inner_join(merge_totals, merge_averages, by=\"Player\")\n",
    "\n",
    "# Rename Totals/Averages columns\n",
    "#Create a copy of the original names\n",
    "col_names <- names(combined_ps)\n",
    "# Process columns 2 to 14\n",
    "col_names[2:14] <- gsub(\"\\\\.x$\", \"\", col_names[2:14])  # Remove .x\n",
    "col_names[2:14] <- paste0(col_names[2:14], \"T\")        # Add T to the end\n",
    "# Process columns 28 to 37\n",
    "col_names[28:37] <- gsub(\"\\\\.y$\", \"\", col_names[28:37])  # Remove .x\n",
    "col_names[28:37] <- paste0(col_names[28:37], \"Avg\")        # Add T to the end\n",
    "# Assign the new names to the data frame\n",
    "names(combined_ps) <- col_names"
   ]
  },
  {
   "cell_type": "markdown",
   "id": "d3938809",
   "metadata": {},
   "source": [
    "The visualisation will display a breakdown of the points assigned to each player. This requires the points value to be aggregated at the attribute level."
   ]
  },
  {
   "cell_type": "code",
   "execution_count": 81,
   "id": "eb6b79db",
   "metadata": {},
   "outputs": [],
   "source": [
    "# combine attribute point values\n",
    "combined_ps$CGM <- (combined_ps$GMTP*totals_weight)\n",
    "combined_ps$CKI <- (combined_ps$KITP*totals_weight)+(combined_ps$KIAvgP*averages_weight)\n",
    "combined_ps$CMK <- (combined_ps$MKTP*totals_weight)+(combined_ps$MKAvgP*averages_weight)\n",
    "combined_ps$CHB <- (combined_ps$HBTP*totals_weight)+(combined_ps$HBAvgP*averages_weight)\n",
    "combined_ps$CDE <- (combined_ps$DETP*totals_weight)\n",
    "combined_ps$CGL <- (combined_ps$GLTP*totals_weight)+(combined_ps$GLAvgP*averages_weight)\n",
    "combined_ps$CACC <- (combined_ps$ACCTP*totals_weight)\n",
    "combined_ps$CTK <- (combined_ps$TKTP*totals_weight)+(combined_ps$TKAvgP*averages_weight)\n",
    "combined_ps$CRB <- (combined_ps$RBTP*totals_weight)+(combined_ps$RBAvgP*averages_weight)\n",
    "combined_ps$CIF <- (combined_ps$IFTP*totals_weight)+(combined_ps$IFAvgP*averages_weight)\n",
    "combined_ps$CCL <- (combined_ps$CLTP*totals_weight)+(combined_ps$CLAvgP*averages_weight)\n",
    "combined_ps$CFD <- (combined_ps$FDTP*totals_weight)\n",
    "combined_ps$CFR <- (combined_ps$FRAvgP*averages_weight)\n",
    "combined_ps$C1P <- (combined_ps$`1PTP`*totals_weight)+(combined_ps$`1PAvgP`*averages_weight)\n",
    "\n",
    "# drop original total points columns\n",
    "combined_ps <- combined_ps[, -c(15:27)]\n",
    "# drop original average points columns\n",
    "combined_ps <- combined_ps[, -c(25:34)]\n",
    "#create ranking column\n",
    "combined_ps$final_rankings <- rowSums(combined_ps[25:38])"
   ]
  },
  {
   "cell_type": "markdown",
   "id": "66b948cb",
   "metadata": {},
   "source": [
    "The data can now be loaded into the Shiny app. Click on the \"Listening on\" URL below to view and interact with the visualisation."
   ]
  },
  {
   "cell_type": "code",
   "execution_count": null,
   "id": "bc21efb1",
   "metadata": {
    "scrolled": true
   },
   "outputs": [
    {
     "name": "stderr",
     "output_type": "stream",
     "text": [
      "\n",
      "Listening on http://127.0.0.1:6625\n",
      "\n"
     ]
    }
   ],
   "source": [
    "# Load my data\n",
    "playerdata <- combined_ps\n",
    "\n",
    "# Define UI\n",
    "ui <- fluidPage(\n",
    "\n",
    "  titlePanel(\"Analysing the performance of the Richmond Football Club\"),\n",
    "  sidebarLayout(\n",
    "    sidebarPanel(\n",
    "      # create user input for plot1\n",
    "      checkboxGroupInput(\"values\", \"Select the Metrics to Include:\",\n",
    "                         choices = c(\"Games Played\" = \"CGM\", \n",
    "                                     \"Kicks\" = \"CKI\", \n",
    "                                     \"Marks\" = \"CMK\", \n",
    "                                     \"Handballs\" = \"CHB\", \n",
    "                                     \"Disposal Efficiency\" = \"CDE\", \n",
    "                                     \"Goals\" = \"CGL\", \n",
    "                                     \"Accuracy\" = \"CACC\", \n",
    "                                     \"Tackles\" = \"CTK\", \n",
    "                                     \"Rebound 50s\" = \"CRB\", \n",
    "                                     \"Inside 50s\" = \"CIF\", \n",
    "                                     \"Clearances\" = \"CCL\",\n",
    "                                     \"Free Kick Differential\" = \"CFD\",\n",
    "                                     \"Free Kick Ratio\" = \"CFR\", \n",
    "                                     \"1 Percenters\" = \"C1P\"),\n",
    "                        selected = c(\"CGM\", \"CKI\", \"CMK\", \"CHB\", \"CDE\", \"CGL\", \n",
    "                                      \"CACC\", \"CTK\", \"CRB\", \"CIF\", \"CCL\", \"CFD\",\n",
    "                                      \"CFR\", \"C1P\")),\n",
    "      \n",
    "    ),\n",
    "  \n",
    "    mainPanel(\n",
    "      h4(\"Who is the greatest Richmond player of all time?\"),\n",
    "      p(\"By ranking players based on their per game and total metrics, we aim to\n",
    "      identify Richmond's greatest player. Focus on the metrics that matter to \n",
    "      you most by selecting your own combinations using the checkboxes on the \n",
    "      left hand side. The chart will automatically refresh to reflect your selection.\"),\n",
    "      plotlyOutput(\"barChart\"),\n",
    "      \n",
    "    ))\n",
    "  )\n",
    "\n",
    "# Define server logic\n",
    "server <- function(input, output) {\n",
    "  \n",
    "  # specify unique colors to avoid repeats\n",
    "  c1 <- \"#c7dbf0\"\n",
    "  c2 <- \"#87a353\"\n",
    "  c3 <- \"#f5c998\"\n",
    "  \n",
    "  # plot1\n",
    "  output$barChart <- renderPlotly({\n",
    "    # rank players by totals\n",
    "    sorted_data <- playerdata[order(playerdata$final_rankings, decreasing=TRUE), ]\n",
    "    \n",
    "    # limit to top 20 players\n",
    "    top_players <- head(sorted_data, 20)\n",
    "\n",
    "    # create stacked bar chart\n",
    "    performance <- plot_ly(top_players, y = ~Player, height = 700)\n",
    "    \n",
    "    # set each attribute within an if statement to allow reordering based on user selection\n",
    "    if (\"CGM\" %in% input$values) {\n",
    "      performance <- performance %>% add_trace(x = ~CGM, name = \"Games\", type = \"bar\", orientation = 'h',\n",
    "                                               hoverinfo = \"text\", text = ~paste(\"Games: \", GMT),\n",
    "                                               textposition = \"none\")\n",
    "    }\n",
    "    if (\"CKI\" %in% input$values) {\n",
    "      performance <- performance %>% add_trace(x = ~CKI, name = \"Kicks\", type = \"bar\", orientation = 'h',\n",
    "                                               hoverinfo = \"text\", text = ~paste(\"Kicks: \", KIT, \"<br>\", \"Kicks per Game: \", KIAvg),\n",
    "                                               textposition = \"none\")\n",
    "    }\n",
    "    if (\"CMK\" %in% input$values) {\n",
    "      performance <- performance %>% add_trace(x = ~CMK, name = \"Marks\", type = \"bar\", orientation = 'h',\n",
    "                                               hoverinfo = \"text\", text = ~paste(\"Marks: \", MKT, \"<br>\", \"Marks per Game: \", MKAvg),\n",
    "                                               textposition = \"none\")\n",
    "      }\n",
    "    if (\"CHB\" %in% input$values) {\n",
    "        performance <- performance %>% add_trace(x = ~CHB, name = \"Handballs\", type = \"bar\", orientation = 'h',\n",
    "                                                 hoverinfo = \"text\", text = ~paste(\"Handballs: \", HBT, \"<br>\", \"Handballs per Game: \", HBAvg),\n",
    "                                                 textposition = \"none\")\n",
    "      }\n",
    "      if (\"CDE\" %in% input$values) {\n",
    "        performance <- performance %>% add_trace(x = ~CDE, name = \"Disposals Efficiency\", type = \"bar\", orientation = 'h',\n",
    "                                                 hoverinfo = \"text\", text = ~paste(\"Disposals Efficiency: \", CDE),\n",
    "                                                 textposition = \"none\")\n",
    "      }\n",
    "      if (\"CGL\" %in% input$values) {\n",
    "        performance <- performance %>% add_trace(x = ~CGL, name = \"Goals\", type = \"bar\", orientation = 'h',\n",
    "                                                 hoverinfo = \"text\", text = ~paste(\"Goals: \", GLT, \"<br>\", \"Goals per Game: \", GLAvg),\n",
    "                                                 textposition = \"none\")\n",
    "      }\n",
    "      if (\"CACC\" %in% input$values) {\n",
    "        performance <- performance %>% add_trace(x = ~CACC, name = \"Accuracy\", type = \"bar\", orientation = 'h',\n",
    "                                                 hoverinfo = \"text\", text = ~paste(\"Accuracy: \", ACCT),\n",
    "                                                 textposition = \"none\")\n",
    "      }\n",
    "      if (\"CTK\" %in% input$values) {\n",
    "        performance <- performance %>% add_trace(x = ~CTK, name = \"Tackles\", type = \"bar\", orientation = 'h',\n",
    "                                                 hoverinfo = \"text\", text = ~paste(\"Tackles: \", TKT, \"<br>\", \"Tackles per Game: \", TKAvg),\n",
    "                                                 textposition = \"none\")\n",
    "      }\n",
    "      if (\"CRB\" %in% input$values) {\n",
    "        performance <- performance %>% add_trace(x = ~CRB, name = \"Rebound 50s\", type = \"bar\", orientation = 'h',\n",
    "                                                 hoverinfo = \"text\", text = ~paste(\"Rebound 50s: \", RBT, \"<br>\", \"Rebound 50s per Game: \", RBAvg),\n",
    "                                                 textposition = \"none\")\n",
    "      }\n",
    "      if (\"CIF\" %in% input$values) {\n",
    "        performance <- performance %>% add_trace(x = ~CIF, name = \"Inside 50s\", type = \"bar\", orientation = 'h',\n",
    "                                                 hoverinfo = \"text\", text = ~paste(\"Inside 50s: \", IFT, \"<br>\", \"Inside 50s per Game: \", IFAvg),\n",
    "                                                 textposition = \"none\")\n",
    "      }\n",
    "          if (\"CCL\" %in% input$values) {\n",
    "        performance <- performance %>% add_trace(x = ~CCL, name = \"Clearances\", type = \"bar\", orientation = 'h',\n",
    "                                                 hoverinfo = \"text\", text = ~paste(\"Clearances: \", CLT, \"<br>\", \"Clearances per Game: \", CLAvg),\n",
    "                                                 textposition = \"none\")\n",
    "      }\n",
    "      if (\"CFR\" %in% input$values) {\n",
    "        performance <- performance %>% add_trace(x = ~CFR, name = \"Frees\", type = \"bar\", orientation = 'h',\n",
    "                                                 hoverinfo = \"text\", text = ~paste(\"Ratio of free kicks given vs awarded: \", FRAvg),\n",
    "                                                 textposition = \"none\", color=I(c1))\n",
    "      }\n",
    "      if (\"CFD\" %in% input$values) {\n",
    "        performance <- performance %>% add_trace(x = ~CFD, name = \"Free Differential\", type = \"bar\", orientation = 'h',\n",
    "                                                 hoverinfo = \"text\", text = ~paste(\"Free Kick Differential: \", FDT),\n",
    "                                                 textposition = \"none\", color=I(c2))\n",
    "      }\n",
    "      if (\"C1P\" %in% input$values) {\n",
    "        performance <- performance %>% add_trace(x = ~C1P, name = \"1%\", type = \"bar\", orientation = 'h',\n",
    "                                                 hoverinfo = \"text\", text = ~paste(\"1%: \", `1PT`, \"<br>\", \"1% per Game: \", `1PAvg`),\n",
    "                                                 textposition = \"none\", color=I(c3))\n",
    "      }\n",
    "      \n",
    "    performance <- performance %>% layout(barmode = 'stack', yaxis = list(title = \"Players\", categoryorder = \"total ascending\"), xaxis = list(title = \"Rankings\"))\n",
    "\n",
    "  })\n",
    "   \n",
    "   \n",
    "}\n",
    "\n",
    "# Run the application\n",
    "shinyApp(ui = ui, server = server)\n"
   ]
  },
  {
   "cell_type": "code",
   "execution_count": null,
   "id": "561b82eb",
   "metadata": {},
   "outputs": [],
   "source": []
  }
 ],
 "metadata": {
  "kernelspec": {
   "display_name": "R",
   "language": "R",
   "name": "ir"
  }
 },
 "nbformat": 4,
 "nbformat_minor": 5
}
